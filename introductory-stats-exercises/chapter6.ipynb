{
 "cells": [
  {
   "cell_type": "markdown",
   "metadata": {},
   "source": [
    "# Solutions for selected exercises from Chapter 6\n"
   ]
  },
  {
   "cell_type": "markdown",
   "metadata": {},
   "source": [
    "## Section 6.1 The Mean and Standard Deviation of the Sample Mean"
   ]
  },
  {
   "cell_type": "code",
   "execution_count": 1,
   "metadata": {},
   "outputs": [],
   "source": [
    "import numpy as np\n",
    "import scipy.stats as stats\n"
   ]
  },
  {
   "cell_type": "code",
   "execution_count": 2,
   "metadata": {},
   "outputs": [],
   "source": [
    "# Get the sample mean and sample standard deviation from the population mean\n",
    "# and population standard deviation and the number of samples used.\n",
    "def sample_stats(pmean, pstd, n):\n",
    "    sample_mean = pmean\n",
    "    sample_std = pstd / np.sqrt(n)\n",
    "    return (sample_mean, sample_std)\n",
    "\n",
    "def prob_less_than(p, std, target):\n",
    "    return stats.norm.cdf(target, p, std)\n",
    "\n",
    "def prob_greater_than(p, std, target):\n",
    "    return 1 - stats.norm.cdf(target, p, std)\n",
    "\n",
    "def prob_between(p, std, lower, upper):\n",
    "    return stats.norm.cdf(upper, p, std) - stats.norm.cdf(lower, p, std)\n",
    "\n",
    "def prob_outside(p, std, lower, upper):\n",
    "    return 1 - stats.norm.cdf(upper, p, std) + stats.norm.cdf(lower, p, std)"
   ]
  },
  {
   "cell_type": "markdown",
   "metadata": {},
   "source": [
    "**Q1.** Random samples of size 225 are drawn from a population with mean 100 and standard deviation 20. Find the mean and standard deviation of the sample mean."
   ]
  },
  {
   "cell_type": "code",
   "execution_count": 3,
   "metadata": {},
   "outputs": [
    {
     "name": "stdout",
     "output_type": "stream",
     "text": [
      "Sample mean: 100\n",
      "Sample Standard Deviation: 1.33\n"
     ]
    }
   ],
   "source": [
    "n = 225\n",
    "pmu = 100\n",
    "psd = 20\n",
    "\n",
    "sample_mean = pmu\n",
    "print(f\"Sample mean: {sample_mean}\")\n",
    "sample_sd = psd / np.sqrt(n)\n",
    "print(f\"Sample Standard Deviation: {sample_sd:0.2f}\")"
   ]
  },
  {
   "cell_type": "markdown",
   "metadata": {},
   "source": [
    "**Q2.** Random samples of size 64 are drawn from a population with mean 32 and standard deviation 5. Find the mean and standard deviation of the sample mean."
   ]
  },
  {
   "cell_type": "code",
   "execution_count": 4,
   "metadata": {},
   "outputs": [
    {
     "name": "stdout",
     "output_type": "stream",
     "text": [
      "Sample mean: 32\n",
      "Sample Standard Deviation: 0.62\n"
     ]
    }
   ],
   "source": [
    "n = 64\n",
    "pmean = 32\n",
    "psd = 5\n",
    "\n",
    "sample_mean = pmean\n",
    "sample_sd = psd / np.sqrt(n)\n",
    "\n",
    "print(f\"Sample mean: {sample_mean}\")\n",
    "print(f\"Sample Standard Deviation: {sample_sd:0.2f}\")"
   ]
  },
  {
   "cell_type": "markdown",
   "metadata": {},
   "source": [
    "**Q3.** A population has mean 75 and standard deviation 12.\n",
    "\n",
    "- a. Random samples of size 121 are taken. Find the mean and standard deviation of the sample mean.\n",
    "- b. How would the answers to part (a) change if the size of the samples were 400 instead of 121?"
   ]
  },
  {
   "cell_type": "code",
   "execution_count": 5,
   "metadata": {},
   "outputs": [
    {
     "name": "stdout",
     "output_type": "stream",
     "text": [
      "Sample mean: 75\n",
      "Sample Standard Deviation: 1.09\n",
      "Sample mean: 75\n",
      "Sample Standard Deviation: 0.60\n"
     ]
    }
   ],
   "source": [
    "pmean = 75\n",
    "psd = 12\n",
    "n = 121\n",
    "\n",
    "sample_mean = pmean\n",
    "sample_sd = psd / np.sqrt(n)\n",
    "\n",
    "print(f\"Sample mean: {sample_mean}\")\n",
    "print(f\"Sample Standard Deviation: {sample_sd:0.2f}\")\n",
    "\n",
    "# Part b\n",
    "n = 400\n",
    "sample_sd = psd / np.sqrt(n)\n",
    "\n",
    "print(f\"Sample mean: {sample_mean}\")\n",
    "print(f\"Sample Standard Deviation: {sample_sd:0.2f}\")"
   ]
  },
  {
   "cell_type": "markdown",
   "metadata": {},
   "source": [
    "The sample mean ($\\mu \\bar{x}$) would stay the same. The sample standard deviation ($\\sigma \\bar{x}$) decreases to 0.6"
   ]
  },
  {
   "cell_type": "markdown",
   "metadata": {},
   "source": [
    "**Q4.** A population has mean 5.75 and standard deviation 1.02.\n",
    "\n",
    "- a. Random samples of size 81 are taken. Find the mean and standard deviation of the sample mean.\n",
    "- b. How would the answers to part (a) change if the size of the samples were 25 instead of 81?"
   ]
  },
  {
   "cell_type": "code",
   "execution_count": 6,
   "metadata": {},
   "outputs": [
    {
     "name": "stdout",
     "output_type": "stream",
     "text": [
      "Sample mean: 5.75\n",
      "Sample Standard Deviation: 0.11\n",
      "Sample mean: 5.75\n",
      "Sample Standard Deviation: 0.20\n"
     ]
    }
   ],
   "source": [
    "pmean = 5.75\n",
    "psd = 1.02\n",
    "\n",
    "# Part a\n",
    "n = 81\n",
    "sample_mean = pmean\n",
    "sample_sd = psd / np.sqrt(n)\n",
    "\n",
    "print(f\"Sample mean: {sample_mean}\")\n",
    "print(f\"Sample Standard Deviation: {sample_sd:0.2f}\")\n",
    "\n",
    "# Part b\n",
    "n = 25\n",
    "sample_mean = pmean\n",
    "sample_sd = psd / np.sqrt(n)\n",
    "\n",
    "print(f\"Sample mean: {sample_mean}\")\n",
    "print(f\"Sample Standard Deviation: {sample_sd:0.2f}\")"
   ]
  },
  {
   "cell_type": "markdown",
   "metadata": {},
   "source": [
    "The sample mean remains the same. The sample standard deviation increases to 0.2"
   ]
  },
  {
   "cell_type": "markdown",
   "metadata": {},
   "source": [
    "## Section 6.2 The Sampling Distribution of the Sample Mean"
   ]
  },
  {
   "cell_type": "markdown",
   "metadata": {},
   "source": [
    "### Basic Exercises"
   ]
  },
  {
   "cell_type": "markdown",
   "metadata": {},
   "source": [
    "**Q1.** A population has mean 128 and standard deviation 22.\n",
    "\n",
    "1. Find the mean and standard deviation of $\\bar{X}$ for samples of size 36.\n",
    "2. Find the probability that the mean of a sample of size 36 will be within 10 units of the population mean, that is, between 118 and 138."
   ]
  },
  {
   "cell_type": "code",
   "execution_count": 7,
   "metadata": {},
   "outputs": [
    {
     "name": "stdout",
     "output_type": "stream",
     "text": [
      "Sample mean: 128\n",
      "Sample std: 3.67\n",
      "Probability that the mean is within 10 units for the population mean: 0.9936\n"
     ]
    }
   ],
   "source": [
    "pmean = 128\n",
    "pstd = 22\n",
    "n = 36\n",
    "\n",
    "# Part 1\n",
    "sample_mean = pmean\n",
    "sample_std = pstd / np.sqrt(n)\n",
    "\n",
    "print(f\"Sample mean: {sample_mean}\")\n",
    "print(f\"Sample std: {sample_std:0.2f}\")\n",
    "\n",
    "# Part 2\n",
    "lower_prob = stats.norm.cdf(118, loc=sample_mean, scale=sample_std)\n",
    "upper_prob = stats.norm.cdf(138, loc=sample_mean, scale=sample_std)\n",
    "print(\"Probability that the mean is within 10 units for the population mean: %0.4f\" % (upper_prob - lower_prob))\n"
   ]
  },
  {
   "cell_type": "markdown",
   "metadata": {},
   "source": [
    "**Q2.** A population has mean 1,542 and standard deviation 246.\n",
    "\n",
    "1. Find the mean and standard deviation of $\\bar{X}$ for samples of size 100.\n",
    "2. Find the probability that the mean of a sample of size 100 will be within 100 units of the population mean, that is, between 1,442 and 1,642."
   ]
  },
  {
   "cell_type": "code",
   "execution_count": 8,
   "metadata": {},
   "outputs": [
    {
     "name": "stdout",
     "output_type": "stream",
     "text": [
      "Sample mean: 1542\n",
      "Sample std: 24.60\n",
      "Probability that the mean is within 100 units for the population mean: 1.0000\n"
     ]
    }
   ],
   "source": [
    "pmean = 1542\n",
    "pstd = 246\n",
    "n = 100\n",
    "\n",
    "# Part 1\n",
    "sample_mean = pmean\n",
    "sample_std = pstd / np.sqrt(n)\n",
    "\n",
    "print(f\"Sample mean: {sample_mean}\")\n",
    "print(f\"Sample std: {sample_std:0.2f}\")\n",
    "\n",
    "# Part 2\n",
    "lower_prob = stats.norm.cdf(1442, loc=pmean, scale=sample_std)\n",
    "upper_prob = stats.norm.cdf(1642, loc=pmean, scale=sample_std)\n",
    "print(\"Probability that the mean is within 100 units for the population mean: %0.4f\" % (upper_prob - lower_prob))"
   ]
  },
  {
   "cell_type": "markdown",
   "metadata": {},
   "source": [
    "**Q3.** A population has mean 73.5 and standard deviation 2.5.\n",
    "\n",
    "1. Find the mean and standard deviation of $\\bar{X}$ for samples of size 30.\n",
    "2. Find the probability that the mean of a sample of size 30 will be less than 72."
   ]
  },
  {
   "cell_type": "code",
   "execution_count": 9,
   "metadata": {},
   "outputs": [
    {
     "name": "stdout",
     "output_type": "stream",
     "text": [
      "Sample mean: 73.5\n",
      "Sample std: 0.46\n",
      "Probability: 0.0005\n"
     ]
    }
   ],
   "source": [
    "pmean = 73.5\n",
    "pstd = 2.5\n",
    "n = 30\n",
    "\n",
    "# Part 1\n",
    "sample_mean = pmean\n",
    "sample_std = pstd / np.sqrt(n)\n",
    "\n",
    "print(f\"Sample mean: {sample_mean}\")\n",
    "print(f\"Sample std: {sample_std:0.2f}\")\n",
    "\n",
    "# Part 2\n",
    "prob = stats.norm.cdf(72, loc=pmean, scale=sample_std)\n",
    "print(f\"Probability: {prob:0.4f}\")"
   ]
  },
  {
   "cell_type": "markdown",
   "metadata": {},
   "source": [
    "**Q4.** A population has mean 48.4 and standard deviation 6.3.\n",
    "\n",
    "1. Find the mean and standard deviation of $\\bar{X}$ for samples of size 64.\n",
    "2. Find the probability that the mean of a sample of size 64 will be less than 46.7."
   ]
  },
  {
   "cell_type": "code",
   "execution_count": 10,
   "metadata": {},
   "outputs": [
    {
     "name": "stdout",
     "output_type": "stream",
     "text": [
      "Sample mean: 48.4\n",
      "Sample std: 0.79\n",
      "Probability: 0.0154\n"
     ]
    }
   ],
   "source": [
    "pmean = 48.4\n",
    "pstd = 6.3\n",
    "n = 64\n",
    "\n",
    "# Part 1\n",
    "sample_mean = pmean\n",
    "sample_std = pstd / np.sqrt(n)\n",
    "\n",
    "print(f\"Sample mean: {sample_mean}\")\n",
    "print(f\"Sample std: {sample_std:0.2f}\")\n",
    "\n",
    "# Part 2\n",
    "prob = stats.norm.cdf(46.7, loc=pmean, scale=sample_std)\n",
    "print(f\"Probability: {prob:0.4f}\")"
   ]
  },
  {
   "cell_type": "markdown",
   "metadata": {},
   "source": [
    "**Q5.** A normally distributed population has mean 25.6 and standard deviation 3.3.\n",
    "\n",
    "1. Find the probability that a single randomly selected element X of the population exceeds 30.\n",
    "2. Find the mean and standard deviation of $\\bar{X}$ for samples of size 9.\n",
    "3. Find the probability that the mean of a sample of size 9 drawn from this population exceeds 30."
   ]
  },
  {
   "cell_type": "code",
   "execution_count": 11,
   "metadata": {},
   "outputs": [
    {
     "name": "stdout",
     "output_type": "stream",
     "text": [
      "Probability: 0.0912\n",
      "Sample mean: 25.6\n",
      "Sample std: 1.10\n",
      "Probability: 0.0000\n"
     ]
    }
   ],
   "source": [
    "pmean = 25.6\n",
    "pstd = 3.3\n",
    "n = 1\n",
    "\n",
    "# Part 1\n",
    "# A sample size of 1 means that the sample mean and the standard deviation is the same as the population.\n",
    "prob = 1 - stats.norm.cdf(30, loc=pmean, scale=pstd)\n",
    "print(f\"Probability: {prob:0.4f}\")\n",
    "\n",
    "# Part 2\n",
    "n = 9\n",
    "sample_mean = pmean\n",
    "sample_std = pstd / np.sqrt(n)\n",
    "\n",
    "print(f\"Sample mean: {sample_mean}\")\n",
    "print(f\"Sample std: {sample_std:0.2f}\")\n",
    "\n",
    "# Part 3\n",
    "prob = 1 - stats.norm.cdf(30, loc=sample_mean, scale=sample_std)\n",
    "print(f\"Probability: {prob:0.4f}\")"
   ]
  },
  {
   "cell_type": "markdown",
   "metadata": {},
   "source": [
    "**Q6.** A normally distributed population has mean 57.7 and standard deviation 12.1.\n",
    "\n",
    "1. Find the probability that a single randomly selected element X of the population is less than 45.\n",
    "2. Find the mean and standard deviation of $\\bar{X}$ for samples of size 16.\n",
    "3. Find the probability that the mean of a sample of size 16 drawn from this population is less than 45."
   ]
  },
  {
   "cell_type": "code",
   "execution_count": 12,
   "metadata": {},
   "outputs": [
    {
     "name": "stdout",
     "output_type": "stream",
     "text": [
      "Probability: 0.1470\n",
      "Sample mean: 57.7\n",
      "Sample std: 3.02\n",
      "Probability: 0.0000\n"
     ]
    }
   ],
   "source": [
    "pmean = 57.7\n",
    "pstd = 12.1\n",
    "\n",
    "# Part 1\n",
    "# A sample size of 1 means that the sample mean and the standard deviation is the same as the population.\n",
    "prob = stats.norm.cdf(45, loc=pmean, scale=pstd)\n",
    "print(f\"Probability: {prob:0.4f}\")\n",
    "\n",
    "# Part 2\n",
    "n = 16\n",
    "sample_mean = pmean\n",
    "sample_std = pstd / np.sqrt(n)\n",
    "\n",
    "print(f\"Sample mean: {sample_mean}\")\n",
    "print(f\"Sample std: {sample_std:0.2f}\")\n",
    "\n",
    "# Part 3\n",
    "prob = stats.norm.cdf(45, loc=sample_mean, scale=sample_std)\n",
    "print(f\"Probability: {prob:0.4f}\")"
   ]
  },
  {
   "cell_type": "markdown",
   "metadata": {},
   "source": [
    "**Q7.** A population has mean 557 and standard deviation 35.\n",
    "\n",
    "1. Find the mean and standard deviation of $\\bar{X}$ for samples of size 50.\n",
    "2. Find the probability that the mean of a sample of size 50 will be more than 570."
   ]
  },
  {
   "cell_type": "code",
   "execution_count": 13,
   "metadata": {},
   "outputs": [
    {
     "name": "stdout",
     "output_type": "stream",
     "text": [
      "Sample mean: 557\n",
      "Sample std: 4.9497\n",
      "Probability: 0.0043\n"
     ]
    }
   ],
   "source": [
    "pmean = 557\n",
    "pstd = 35\n",
    "\n",
    "# Part 1\n",
    "n = 50\n",
    "sample_mean = pmean\n",
    "sample_std = pstd / np.sqrt(n)\n",
    "\n",
    "print(f\"Sample mean: {sample_mean}\")\n",
    "print(f\"Sample std: {sample_std:0.4f}\")\n",
    "\n",
    "# Part 2\n",
    "prob = 1 - stats.norm.cdf(570, loc=sample_mean, scale=sample_std)\n",
    "print(f\"Probability: {prob:0.4f}\")"
   ]
  },
  {
   "cell_type": "markdown",
   "metadata": {},
   "source": [
    "**Q8.** A population has mean 16 and standard deviation 1.7.\n",
    "\n",
    "1. Find the mean and standard deviation of $\\bar{X}$ for samples of size 80.\n",
    "2. Find the probability that the mean of a sample of size 80 will be more than 16.4."
   ]
  },
  {
   "cell_type": "code",
   "execution_count": 14,
   "metadata": {},
   "outputs": [
    {
     "name": "stdout",
     "output_type": "stream",
     "text": [
      "Sample mean: 16\n",
      "Sample std: 0.1901\n",
      "Probability: 0.0177\n"
     ]
    }
   ],
   "source": [
    "pmean = 16\n",
    "pstd = 1.7\n",
    "\n",
    "# Part 1\n",
    "n = 80\n",
    "sample_mean = pmean\n",
    "sample_std = pstd / np.sqrt(n)\n",
    "\n",
    "print(f\"Sample mean: {sample_mean}\")\n",
    "print(f\"Sample std: {sample_std:0.4f}\")\n",
    "\n",
    "# Part 2\n",
    "prob = 1 - stats.norm.cdf(16.4, loc=sample_mean, scale=sample_std)\n",
    "print(f\"Probability: {prob:0.4f}\")"
   ]
  },
  {
   "cell_type": "markdown",
   "metadata": {},
   "source": [
    "**Q9.** A normally distributed population has mean 1,214 and standard deviation 122.\n",
    "\n",
    "1. Find the probability that a single randomly selected element X of the population is between 1,100 and 1,300.\n",
    "2. Find the mean and standard deviation of $\\bar{X}$ for samples of size 25.\n",
    "3. Find the probability that the mean of a sample of size 25 drawn from this population is between 1,100 and 1,300."
   ]
  },
  {
   "cell_type": "code",
   "execution_count": 15,
   "metadata": {},
   "outputs": [
    {
     "name": "stdout",
     "output_type": "stream",
     "text": [
      "Probability: 0.5845\n",
      "Sample mean: 1214\n",
      "Sample std: 24.4000\n",
      "Probability: 0.9998\n"
     ]
    }
   ],
   "source": [
    "pmean = 1214\n",
    "pstd = 122\n",
    "\n",
    "# Part 1\n",
    "lprob = stats.norm.cdf(1100, loc=pmean, scale=pstd)\n",
    "uprob = stats.norm.cdf(1300, loc=pmean, scale=pstd)\n",
    "print(f\"Probability: {uprob-lprob:0.4f}\")\n",
    "\n",
    "# Part 2\n",
    "n = 25\n",
    "sample_mean = pmean\n",
    "sample_std = pstd / np.sqrt(n)\n",
    "\n",
    "print(f\"Sample mean: {sample_mean}\")\n",
    "print(f\"Sample std: {sample_std:0.4f}\")\n",
    "\n",
    "# Part 2\n",
    "lprob = stats.norm.cdf(1100, loc=sample_mean, scale=sample_std)\n",
    "uprob = stats.norm.cdf(1300, loc=sample_mean, scale=sample_std)\n",
    "print(f\"Probability: {uprob-lprob:0.4f}\")\n"
   ]
  },
  {
   "cell_type": "markdown",
   "metadata": {},
   "source": [
    "**Q10.** A normally distributed population has mean 57,800 and standard deviation 750.\n",
    "\n",
    "1. Find the probability that a single randomly selected element X of the population is between 57,000 and 58,000.\n",
    "2. Find the mean and standard deviation of $\\bar{X}$ for samples of size 100.\n",
    "3. Find the probability that the mean of a sample of size 100 drawn from this population is between 57,000 and 58,000."
   ]
  },
  {
   "cell_type": "code",
   "execution_count": 16,
   "metadata": {},
   "outputs": [
    {
     "name": "stdout",
     "output_type": "stream",
     "text": [
      "Probability: 0.4621\n",
      "Sample mean: 57800\n",
      "Sample std: 75.0000\n",
      "Probability: 0.9962\n"
     ]
    }
   ],
   "source": [
    "pmean = 57800\n",
    "pstd = 750\n",
    "\n",
    "# Part 1\n",
    "lprob = stats.norm.cdf(57000, loc=pmean, scale=pstd)\n",
    "uprob = stats.norm.cdf(58000, loc=pmean, scale=pstd)\n",
    "print(f\"Probability: {uprob-lprob:0.4f}\")\n",
    "\n",
    "# Part 2\n",
    "n = 100\n",
    "sample_mean = pmean\n",
    "sample_std = pstd / np.sqrt(n)\n",
    "\n",
    "print(f\"Sample mean: {sample_mean}\")\n",
    "print(f\"Sample std: {sample_std:0.4f}\")\n",
    "\n",
    "# Part 2\n",
    "lprob = stats.norm.cdf(57000, loc=sample_mean, scale=sample_std)\n",
    "uprob = stats.norm.cdf(58000, loc=sample_mean, scale=sample_std)\n",
    "print(f\"Probability: {uprob-lprob:0.4f}\")"
   ]
  },
  {
   "cell_type": "markdown",
   "metadata": {},
   "source": [
    "**Q11.** A population has mean 72 and standard deviation 6.\n",
    "\n",
    "1. Find the mean and standard deviation of $\\bar{X}$ for samples of size 45.\n",
    "2. Find the probability that the mean of a sample of size 45 will differ from the population mean 72 by at least 2 units, that is, is either less than 70 or more than 74. (Hint: One way to solve the problem is to first find the probability of the complementary event.)"
   ]
  },
  {
   "cell_type": "code",
   "execution_count": 17,
   "metadata": {},
   "outputs": [
    {
     "name": "stdout",
     "output_type": "stream",
     "text": [
      "Sample mean: 72\n",
      "Sample std: 0.8944\n",
      "Probability: 0.0253\n"
     ]
    }
   ],
   "source": [
    "pmean = 72\n",
    "pstd = 6\n",
    "\n",
    "# Part 1\n",
    "n = 45\n",
    "sample_mean = pmean\n",
    "sample_std = pstd / np.sqrt(n)\n",
    "\n",
    "print(f\"Sample mean: {sample_mean}\")\n",
    "print(f\"Sample std: {sample_std:0.4f}\")\n",
    "\n",
    "# Part 2\n",
    "lprob = stats.norm.cdf(70, loc=sample_mean, scale=sample_std)\n",
    "uprob = 1 - stats.norm.cdf(74, loc=sample_mean, scale=sample_std)\n",
    "prob = lprob + uprob\n",
    "print(f\"Probability: {prob:0.4f}\")"
   ]
  },
  {
   "cell_type": "markdown",
   "metadata": {},
   "source": [
    "**Q12.** A population has mean 12 and standard deviation 1.5.\n",
    "\n",
    "1. Find the mean and standard deviation of $\\bar{X}$ for samples of size 90.\n",
    "2. Find the probability that the mean of a sample of size 90 will differ from the population mean 12 by at least 0.3 unit, that is, is either less than 11.7 or more than 12.3. (Hint: One way to solve the problem is to first find the probability of the complementary event.)"
   ]
  },
  {
   "cell_type": "code",
   "execution_count": 18,
   "metadata": {},
   "outputs": [
    {
     "name": "stdout",
     "output_type": "stream",
     "text": [
      "Sample mean: 12\n",
      "Sample std: 0.1581\n",
      "Probability: 0.0578\n"
     ]
    }
   ],
   "source": [
    "pmean = 12\n",
    "pstd = 1.5\n",
    "\n",
    "# Part 1\n",
    "n = 90\n",
    "sample_mean = pmean\n",
    "sample_std = pstd / np.sqrt(n)\n",
    "\n",
    "print(f\"Sample mean: {sample_mean}\")\n",
    "print(f\"Sample std: {sample_std:0.4f}\")\n",
    "\n",
    "# Part 2\n",
    "lprob = stats.norm.cdf(11.7, loc=sample_mean, scale=sample_std)\n",
    "uprob = 1 - stats.norm.cdf(12.3, loc=sample_mean, scale=sample_std)\n",
    "prob = lprob + uprob\n",
    "print(f\"Probability: {prob:0.4f}\")"
   ]
  },
  {
   "cell_type": "markdown",
   "metadata": {},
   "source": [
    "### Applications"
   ]
  },
  {
   "cell_type": "markdown",
   "metadata": {},
   "source": [
    "**Q13.** Suppose the mean number of days to germination of a variety of seed is 22, with standard deviation 2.3 days. Find the probability that the mean germination time of a sample of 160 seeds will be within 0.5 day of the population mean."
   ]
  },
  {
   "cell_type": "code",
   "execution_count": 19,
   "metadata": {},
   "outputs": [
    {
     "name": "stdout",
     "output_type": "stream",
     "text": [
      "Probability: 0.9940\n"
     ]
    }
   ],
   "source": [
    "pmean = 22\n",
    "pstd = 2.3\n",
    "\n",
    "n = 160\n",
    "sample_mean = pmean\n",
    "sample_std = pstd / np.sqrt(n)\n",
    "\n",
    "lprob = stats.norm.cdf(pmean - 0.5, loc=sample_mean, scale=sample_std)\n",
    "uprob = stats.norm.cdf(pmean + 0.5, loc=sample_mean, scale=sample_std)\n",
    "prob = uprob - lprob\n",
    "print(f\"Probability: {prob:0.4f}\")"
   ]
  },
  {
   "cell_type": "markdown",
   "metadata": {},
   "source": [
    "**Q14.** Suppose the mean length of time that a caller is placed on hold when telephoning a customer service center is 23.8 seconds, with standard deviation 4.6 seconds. Find the probability that the mean length of time on hold in a sample of 1,200 calls will be within 0.5 second of the population mean."
   ]
  },
  {
   "cell_type": "code",
   "execution_count": 20,
   "metadata": {},
   "outputs": [
    {
     "name": "stdout",
     "output_type": "stream",
     "text": [
      "Probability: 0.9998\n"
     ]
    }
   ],
   "source": [
    "pmean = 23.8\n",
    "pstd = 4.6\n",
    "\n",
    "n = 1200\n",
    "sample_mean = pmean\n",
    "sample_std = pstd / np.sqrt(n)\n",
    "\n",
    "lprob = stats.norm.cdf(pmean - 0.5, loc=sample_mean, scale=sample_std)\n",
    "uprob = stats.norm.cdf(pmean + 0.5, loc=sample_mean, scale=sample_std)\n",
    "prob = uprob - lprob\n",
    "print(f\"Probability: {prob:0.4f}\")"
   ]
  },
  {
   "cell_type": "markdown",
   "metadata": {},
   "source": [
    "**Q15.** Suppose the mean amount of cholesterol in eggs labeled “large” is 186 milligrams, with standard deviation 7 milligrams. Find the probability that the mean amount of cholesterol in a sample of 144 eggs will be within 2 milligrams of the population mean."
   ]
  },
  {
   "cell_type": "code",
   "execution_count": 21,
   "metadata": {},
   "outputs": [
    {
     "name": "stdout",
     "output_type": "stream",
     "text": [
      "Probability: 0.9994\n"
     ]
    }
   ],
   "source": [
    "pmean = 186\n",
    "pstd = 7\n",
    "\n",
    "n = 144\n",
    "sample_mean = pmean\n",
    "sample_std = pstd / np.sqrt(n)\n",
    "\n",
    "range = 2\n",
    "lprob = stats.norm.cdf(pmean - range, loc=sample_mean, scale=sample_std)\n",
    "uprob = stats.norm.cdf(pmean + range, loc=sample_mean, scale=sample_std)\n",
    "prob = uprob - lprob\n",
    "print(f\"Probability: {prob:0.4f}\")"
   ]
  },
  {
   "cell_type": "markdown",
   "metadata": {},
   "source": [
    "**Q16.** Suppose that in one region of the country the mean amount of credit card debt per household in households having credit card debt is $15,250, with standard deviation $7,125. Find the probability that the mean amount of credit card debt in a sample of 1,600 such households will be within $300 of the population mean."
   ]
  },
  {
   "cell_type": "code",
   "execution_count": 22,
   "metadata": {},
   "outputs": [
    {
     "name": "stdout",
     "output_type": "stream",
     "text": [
      "Probability: 0.9079\n"
     ]
    }
   ],
   "source": [
    "pmean = 15250\n",
    "pstd = 7125\n",
    "n = 1600\n",
    "sample_mean = pmean\n",
    "sample_std = pstd / np.sqrt(n)\n",
    "\n",
    "range = 300\n",
    "lprob = stats.norm.cdf(pmean - range, loc=sample_mean, scale=sample_std)\n",
    "uprob = stats.norm.cdf(pmean + range, loc=sample_mean, scale=sample_std)\n",
    "prob = uprob - lprob\n",
    "print(f\"Probability: {prob:0.4f}\")"
   ]
  },
  {
   "cell_type": "markdown",
   "metadata": {},
   "source": [
    "**Q17.** Suppose speeds of vehicles on a particular stretch of roadway are normally distributed with mean 36.6 mph and standard deviation 1.7 mph.\n",
    "\n",
    "1. Find the probability that the speed $X$ of a randomly selected vehicle is between 35 and 40 mph.\n",
    "2. Find the probability that the mean speed $\\bar{X}$ of 20 randomly selected vehicles is between 35 and 40 mph."
   ]
  },
  {
   "cell_type": "code",
   "execution_count": 23,
   "metadata": {},
   "outputs": [
    {
     "name": "stdout",
     "output_type": "stream",
     "text": [
      "Probability of 1 random selection: 0.8039\n",
      "Probability of sample: 1.0000\n"
     ]
    }
   ],
   "source": [
    "pmean = 36.6\n",
    "pstd = 1.7\n",
    "lprob = stats.norm.cdf(35, loc=pmean, scale=pstd)\n",
    "uprob = stats.norm.cdf(40, loc=pmean, scale=pstd)\n",
    "prob = uprob - lprob\n",
    "print(f\"Probability of 1 random selection: {prob:0.4f}\")\n",
    "\n",
    "n = 20\n",
    "sample_mean = pmean\n",
    "sample_std = pstd / np.sqrt(n)\n",
    "\n",
    "lprob = stats.norm.cdf(35, loc=sample_mean, scale=sample_std)\n",
    "uprob = stats.norm.cdf(40, loc=sample_mean, scale=sample_std)\n",
    "prob = uprob - lprob\n",
    "print(f\"Probability of sample: {prob:0.4f}\")"
   ]
  },
  {
   "cell_type": "markdown",
   "metadata": {},
   "source": [
    "**Q18.** Many sharks enter a state of tonic immobility when inverted. Suppose that in a particular species of sharks the time a shark remains in a state of tonic immobility when inverted is normally distributed with mean 11.2 minutes and standard deviation 1.1 minutes.\n",
    "\n",
    "1. If a biologist induces a state of tonic immobility in such a shark in order to study it, find the probability that the shark will remain in this state for between 10 and 13 minutes.\n",
    "2. When a biologist wishes to estimate the mean time that such sharks stay immobile by inducing tonic immobility in each of a sample of 12 sharks, find the probability that mean time of immobility in the sample will be between 10 and 13 minutes."
   ]
  },
  {
   "cell_type": "code",
   "execution_count": 24,
   "metadata": {},
   "outputs": [
    {
     "name": "stdout",
     "output_type": "stream",
     "text": [
      "Probability of 1 random selection: 0.8115\n",
      "Probability of sample: 0.9999\n"
     ]
    }
   ],
   "source": [
    "pmean = 11.2\n",
    "pstd = 1.1\n",
    "lprob = stats.norm.cdf(10, loc=pmean, scale=pstd)\n",
    "uprob = stats.norm.cdf(13, loc=pmean, scale=pstd)\n",
    "prob = uprob - lprob\n",
    "print(f\"Probability of 1 random selection: {prob:0.4f}\")\n",
    "\n",
    "n = 12\n",
    "sample_mean = pmean\n",
    "sample_std = pstd / np.sqrt(n)\n",
    "\n",
    "lprob = stats.norm.cdf(10, loc=sample_mean, scale=sample_std)\n",
    "uprob = stats.norm.cdf(13, loc=sample_mean, scale=sample_std)\n",
    "prob = uprob - lprob\n",
    "print(f\"Probability of sample: {prob:0.4f}\")"
   ]
  },
  {
   "cell_type": "markdown",
   "metadata": {},
   "source": [
    "**Q19.** Suppose the mean cost across the country of a 30-day supply of a generic drug is $46.58, with standard deviation $4.84. Find the probability that the mean of a sample of 100 prices of 30-day supplies of this drug will be between $45 and $50."
   ]
  },
  {
   "cell_type": "code",
   "execution_count": 25,
   "metadata": {},
   "outputs": [
    {
     "name": "stdout",
     "output_type": "stream",
     "text": [
      "Probability: 0.9995\n"
     ]
    }
   ],
   "source": [
    "pmean = 46.58\n",
    "pstd = 4.84\n",
    "n = 100\n",
    "sample_mean = pmean\n",
    "sample_std = pstd / np.sqrt(n)\n",
    "\n",
    "lprob = stats.norm.cdf(45, loc=sample_mean, scale=sample_std)\n",
    "uprob = stats.norm.cdf(50, loc=sample_mean, scale=sample_std)\n",
    "prob = uprob - lprob\n",
    "print(f\"Probability: {prob:0.4f}\")"
   ]
  },
  {
   "cell_type": "markdown",
   "metadata": {},
   "source": [
    "**Q20.** Suppose the mean length of time between submission of a state tax return requesting a refund and the issuance of the refund is 47 days, with standard deviation 6 days. Find the probability that in a sample of 50 returns requesting a refund, the mean such time will be more than 50 days."
   ]
  },
  {
   "cell_type": "code",
   "execution_count": 26,
   "metadata": {},
   "outputs": [
    {
     "name": "stdout",
     "output_type": "stream",
     "text": [
      "Probability: 0.0002\n"
     ]
    }
   ],
   "source": [
    "pmean = 47\n",
    "pstd = 6\n",
    "n = 50\n",
    "sample_mean, sample_std = sample_stats(pmean, pstd, n)\n",
    "\n",
    "prob = 1 - stats.norm.cdf(50, loc=sample_mean, scale=sample_std)\n",
    "print(f\"Probability: {prob:0.4f}\")"
   ]
  },
  {
   "cell_type": "markdown",
   "metadata": {},
   "source": [
    "**Q21.** Scores on a common final exam in a large enrollment, multiple-section freshman course are normally distributed with mean 72.7 and standard deviation 13.1.\n",
    "\n",
    "1. Find the probability that the score $X$ on a randomly selected exam paper is between 70 and 80.\n",
    "2. Find the probability that the mean score $\\bar{X}$ of 38 randomly selected exam papers is between 70 and 80."
   ]
  },
  {
   "cell_type": "code",
   "execution_count": 27,
   "metadata": {},
   "outputs": [
    {
     "name": "stdout",
     "output_type": "stream",
     "text": [
      "Probability of 1 random score: 0.2930\n",
      "Probability of sample: 0.8978\n"
     ]
    }
   ],
   "source": [
    "pmean = 72.7\n",
    "pstd = 13.1\n",
    "\n",
    "lprob = stats.norm.cdf(70, loc=pmean, scale=pstd)\n",
    "uprob = stats.norm.cdf(80, loc=pmean, scale=pstd)\n",
    "prob = uprob - lprob\n",
    "print(f\"Probability of 1 random score: {prob:0.4f}\")\n",
    "\n",
    "n = 38\n",
    "sample_mean, sample_std = sample_stats(pmean, pstd, n)\n",
    "lprob = stats.norm.cdf(70, loc=sample_mean, scale=sample_std)\n",
    "uprob = stats.norm.cdf(80, loc=sample_mean, scale=sample_std)\n",
    "prob = uprob - lprob\n",
    "print(f\"Probability of sample: {prob:0.4f}\")"
   ]
  },
  {
   "cell_type": "markdown",
   "metadata": {},
   "source": [
    "**Q22.** Suppose the mean weight of school children’s bookbags is 17.4 pounds, with standard deviation 2.2 pounds. Find the probability that the mean weight of a sample of 30 bookbags will exceed 17 pounds."
   ]
  },
  {
   "cell_type": "code",
   "execution_count": 28,
   "metadata": {},
   "outputs": [
    {
     "name": "stdout",
     "output_type": "stream",
     "text": [
      "Probability: 0.8403\n"
     ]
    }
   ],
   "source": [
    "pmean = 17.4\n",
    "pstd = 2.2\n",
    "n = 30\n",
    "sample_mean, sample_std = sample_stats(pmean, pstd, n)\n",
    "prob = 1 - stats.norm.cdf(17, loc=sample_mean, scale=sample_std)\n",
    "print(f\"Probability: {prob:0.4f}\")"
   ]
  },
  {
   "cell_type": "markdown",
   "metadata": {},
   "source": [
    "**Q23.** Suppose that in a certain region of the country the mean duration of first marriages that end in divorce is 7.8 years, standard deviation 1.2 years. Find the probability that in a sample of 75 divorces, the mean age of the marriages is at most 8 years."
   ]
  },
  {
   "cell_type": "code",
   "execution_count": 29,
   "metadata": {},
   "outputs": [
    {
     "name": "stdout",
     "output_type": "stream",
     "text": [
      "Probability: 0.9255\n"
     ]
    }
   ],
   "source": [
    "pmean = 7.8\n",
    "pstd = 1.2\n",
    "n = 75\n",
    "sample_mean, sample_std = sample_stats(pmean, pstd, n)\n",
    "prob = stats.norm.cdf(8, loc=sample_mean, scale=sample_std)\n",
    "print(f\"Probability: {prob:0.4f}\")"
   ]
  },
  {
   "cell_type": "markdown",
   "metadata": {},
   "source": [
    "**Q24.** Borachio eats at the same fast food restaurant every day. Suppose the time X between the moment Borachio enters the restaurant and the moment he is served his food is normally distributed with mean 4.2 minutes and standard deviation 1.3 minutes.\n",
    "\n",
    "1. Find the probability that when he enters the restaurant today it will be at least 5 minutes until he is served.\n",
    "2. Find the probability that average time until he is served in eight randomly selected visits to the restaurant will be at least 5 minutes."
   ]
  },
  {
   "cell_type": "code",
   "execution_count": 30,
   "metadata": {},
   "outputs": [
    {
     "name": "stdout",
     "output_type": "stream",
     "text": [
      "Probability: 0.7308\n",
      "Probability: 0.9591\n"
     ]
    }
   ],
   "source": [
    "pmean = 4.2\n",
    "pstd = 1.3\n",
    "\n",
    "prob = stats.norm.cdf(5, loc=pmean, scale=pstd)\n",
    "print(f\"Probability: {prob:0.4f}\")\n",
    "\n",
    "n = 8\n",
    "sample_mean, sample_std = sample_stats(pmean, pstd, n)\n",
    "prob = stats.norm.cdf(5, loc=sample_mean, scale=sample_std)\n",
    "print(f\"Probability: {prob:0.4f}\")"
   ]
  },
  {
   "cell_type": "markdown",
   "metadata": {},
   "source": [
    "### Additional Exercises"
   ]
  },
  {
   "cell_type": "markdown",
   "metadata": {},
   "source": [
    "**Q25.** A high-speed packing machine can be set to deliver between 11 and 13 ounces of a liquid. For any delivery setting in this range the amount delivered is normally distributed with mean some amount μ and with standard deviation 0.08 ounce. To calibrate the machine it is set to deliver a particular amount, many containers are filled, and 25 containers are randomly selected and the amount they contain is measured. Find the probability that the sample mean will be within 0.05 ounce of the actual mean amount being delivered to all containers."
   ]
  },
  {
   "cell_type": "code",
   "execution_count": 31,
   "metadata": {},
   "outputs": [
    {
     "name": "stdout",
     "output_type": "stream",
     "text": [
      "Probability: 0.9982\n"
     ]
    }
   ],
   "source": [
    "pmean = 12\n",
    "pstd = 0.08\n",
    "n = 25\n",
    "\n",
    "sample_mean, sample_std = sample_stats(pmean, pstd, n)\n",
    "lprob = stats.norm.cdf(pmean-0.05, loc=sample_mean, scale=sample_std)\n",
    "uprob = stats.norm.cdf(pmean+0.05, loc=sample_mean, scale=sample_std)\n",
    "prob = uprob - lprob\n",
    "print(f\"Probability: {prob:0.4f}\")"
   ]
  },
  {
   "cell_type": "markdown",
   "metadata": {},
   "source": [
    "**Q26.** A tire manufacturer states that a certain type of tire has a mean lifetime of 60,000 miles. Suppose lifetimes are normally distributed with standard deviation σ=3,500 miles.\n",
    "\n",
    "1. Find the probability that if you buy one such tire, it will last only 57,000 or fewer miles. If you had this experience, is it particularly strong evidence that the tire is not as good as claimed?\n",
    "1. A consumer group buys five such tires and tests them. Find the probability that average lifetime of the five tires will be 57,000 miles or less. If the mean is so low, is that particularly strong evidence that the tire is not as good as claimed?"
   ]
  },
  {
   "cell_type": "code",
   "execution_count": 32,
   "metadata": {},
   "outputs": [
    {
     "name": "stdout",
     "output_type": "stream",
     "text": [
      "0.1957\n",
      "0.0276\n"
     ]
    }
   ],
   "source": [
    "pmean = 60000\n",
    "pstd = 3500\n",
    "\n",
    "prob = stats.norm.cdf(57000, pmean, pstd)\n",
    "print(f\"{prob:0.4f}\")\n",
    "\n",
    "n = 5\n",
    "sample_mean, sample_std = sample_stats(pmean, pstd, n)\n",
    "prob = stats.norm.cdf(57000, sample_mean, sample_std)\n",
    "print(f\"{prob:0.4f}\")\n"
   ]
  },
  {
   "cell_type": "markdown",
   "metadata": {},
   "source": [
    "## Secion 6.3 The Sample Proportion"
   ]
  },
  {
   "cell_type": "code",
   "execution_count": 33,
   "metadata": {},
   "outputs": [],
   "source": [
    "def check_proportion_interval(p, n):\n",
    "    q = 1 - p\n",
    "    std = np.sqrt(p*q/n)\n",
    "    l,u = ((p - 3*std), (p + 3*std))\n",
    "    valid = False if l < 0 or u > 1 else True\n",
    "    return (valid, p, std)\n",
    "\n",
    "def sample_proportion_std(p, n):\n",
    "    q = 1 - p\n",
    "    std = np.sqrt(p*q/n)\n",
    "    return std\n",
    "\n",
    "def proportion_interval(p, n):\n",
    "    std = sample_proportion_std(p, n)\n",
    "    l,u = ((p - 3*std), (p + 3*std))\n",
    "    return (l,u)\n"
   ]
  },
  {
   "cell_type": "markdown",
   "metadata": {},
   "source": [
    "### Basic Exercises"
   ]
  },
  {
   "cell_type": "markdown",
   "metadata": {},
   "source": [
    "**Q1.** The proportion of a population with a characteristic of interest is p = 0.37. Find the mean and standard deviation of the sample proportion Pˆ obtained from random samples of size 1,600."
   ]
  },
  {
   "cell_type": "code",
   "execution_count": 34,
   "metadata": {},
   "outputs": [
    {
     "name": "stdout",
     "output_type": "stream",
     "text": [
      "0.37, 0.0121\n"
     ]
    }
   ],
   "source": [
    "p = 0.37\n",
    "q = 1 - p\n",
    "n = 1600\n",
    "\n",
    "sample_mean = p\n",
    "sample_std = np.sqrt(p*q/n)\n",
    "\n",
    "print(f\"{sample_mean}, {sample_std:0.4f}\")"
   ]
  },
  {
   "cell_type": "markdown",
   "metadata": {},
   "source": [
    "**Q2.** The proportion of a population with a characteristic of interest is p = 0.82. Find the mean and standard deviation of the sample proportion Pˆ obtained from random samples of size 900."
   ]
  },
  {
   "cell_type": "code",
   "execution_count": 35,
   "metadata": {},
   "outputs": [
    {
     "name": "stdout",
     "output_type": "stream",
     "text": [
      "0.82, 0.0121\n"
     ]
    }
   ],
   "source": [
    "p = 0.82\n",
    "q = 1 - p\n",
    "n = 900\n",
    "\n",
    "sample_mean = p\n",
    "sample_std == np.sqrt(p*q/n)\n",
    "print(f\"{sample_mean}, {sample_std:0.4f}\")"
   ]
  },
  {
   "cell_type": "markdown",
   "metadata": {},
   "source": [
    "**Q3.** The proportion of a population with a characteristic of interest is p = 0.76. Find the mean and standard deviation of the sample proportion Pˆ obtained from random samples of size 1,200."
   ]
  },
  {
   "cell_type": "code",
   "execution_count": 36,
   "metadata": {},
   "outputs": [
    {
     "name": "stdout",
     "output_type": "stream",
     "text": [
      "0.76, 0.0121\n"
     ]
    }
   ],
   "source": [
    "p = 0.76\n",
    "q = 1 - p\n",
    "n = 1200\n",
    "\n",
    "sample_mean = p\n",
    "sample_std == np.sqrt(p*q/n)\n",
    "print(f\"{sample_mean}, {sample_std:0.4f}\")"
   ]
  },
  {
   "cell_type": "markdown",
   "metadata": {},
   "source": [
    "**Q4.** The proportion of a population with a characteristic of interest is p = 0.37. Find the mean and standard deviation of the sample proportion Pˆ obtained from random samples of size 125."
   ]
  },
  {
   "cell_type": "code",
   "execution_count": 37,
   "metadata": {},
   "outputs": [
    {
     "name": "stdout",
     "output_type": "stream",
     "text": [
      "0.37, 0.0121\n"
     ]
    }
   ],
   "source": [
    "p = 0.37\n",
    "q = 1 - p\n",
    "n = 125\n",
    "\n",
    "sample_mean = p\n",
    "sample_std == np.sqrt(p*q/n)\n",
    "print(f\"{sample_mean}, {sample_std:0.4f}\")"
   ]
  },
  {
   "cell_type": "markdown",
   "metadata": {},
   "source": [
    "**Q5.** Random samples of size 225 are drawn from a population in which the proportion with the characteristic of interest is 0.25. Decide whether or not the sample size is large enough to assume that the sample proportion Pˆ is normally distributed."
   ]
  },
  {
   "cell_type": "code",
   "execution_count": 38,
   "metadata": {},
   "outputs": [
    {
     "name": "stdout",
     "output_type": "stream",
     "text": [
      "(True, 0.25, 0.02886751345948129)\n"
     ]
    }
   ],
   "source": [
    "print(check_proportion_interval(0.25, 225))\n"
   ]
  },
  {
   "cell_type": "markdown",
   "metadata": {},
   "source": [
    "**Q6.** Random samples of size 1,600 are drawn from a population in which the proportion with the characteristic of interest is 0.05. Decide whether or not the sample size is large enough to assume that the sample proportion Pˆ is normally distributed."
   ]
  },
  {
   "cell_type": "code",
   "execution_count": 39,
   "metadata": {},
   "outputs": [
    {
     "name": "stdout",
     "output_type": "stream",
     "text": [
      "(True, 0.05, 0.005448623679425842)\n"
     ]
    }
   ],
   "source": [
    "print(check_proportion_interval(0.05, 1600))\n"
   ]
  },
  {
   "cell_type": "markdown",
   "metadata": {},
   "source": [
    "**Q7.** Random samples of size n produced sample proportions pˆ as shown. In each case decide whether or not the sample size is large enough to assume that the sample proportion Pˆ is normally distributed.\n",
    "\n",
    "1. n = 50, pˆ=0.48\n",
    "2. n = 50, pˆ=0.12\n",
    "3. n = 100, pˆ=0.12"
   ]
  },
  {
   "cell_type": "code",
   "execution_count": 40,
   "metadata": {},
   "outputs": [
    {
     "name": "stdout",
     "output_type": "stream",
     "text": [
      "(True, 0.48, 0.07065408693062278)\n",
      "(False, 0.12, 0.04595650117230423)\n",
      "(True, 0.12, 0.03249615361854384)\n"
     ]
    }
   ],
   "source": [
    "print(check_proportion_interval(0.48, 50))\n",
    "print(check_proportion_interval(0.12, 50))\n",
    "print(check_proportion_interval(0.12, 100))\n"
   ]
  },
  {
   "cell_type": "markdown",
   "metadata": {},
   "source": [
    "**Q9.** A random sample of size 121 is taken from a population in which the proportion with the characteristic of interest is p = 0.47. Find the indicated probabilities.\n",
    "1. P(0.45≤Pˆ≤0.50)\n",
    "2. P(Pˆ≥0.50)"
   ]
  },
  {
   "cell_type": "code",
   "execution_count": 41,
   "metadata": {},
   "outputs": [
    {
     "name": "stdout",
     "output_type": "stream",
     "text": [
      "0.4161\n",
      "0.2542\n"
     ]
    }
   ],
   "source": [
    "p = 0.47\n",
    "n = 121\n",
    "\n",
    "std = sample_proportion_std(p, n)\n",
    "\n",
    "# Part 1\n",
    "lprob = stats.norm.cdf(0.45, p, std)\n",
    "uprob = stats.norm.cdf(0.50, p, std)\n",
    "prob = prob_between(p, std, 0.45, 0.50)\n",
    "print(f\"{prob:0.4f}\")\n",
    "\n",
    "# Part 2\n",
    "prob = prob_greater_than(p, std, 0.50)\n",
    "print(f\"{prob:0.4f}\")"
   ]
  },
  {
   "cell_type": "markdown",
   "metadata": {},
   "source": [
    "**Q10.** A random sample of size 225 is taken from a population in which the proportion with the characteristic of interest is p = 0.34. Find the indicated probabilities.\n",
    "1. P(0.25≤Pˆ≤0.40)\n",
    "2. P(Pˆ≤0.35)"
   ]
  },
  {
   "cell_type": "code",
   "execution_count": 42,
   "metadata": {},
   "outputs": [
    {
     "name": "stdout",
     "output_type": "stream",
     "text": [
      "0.9691\n",
      "0.6242\n"
     ]
    }
   ],
   "source": [
    "p = 0.34\n",
    "n = 225\n",
    "\n",
    "std = sample_proportion_std(p, n)\n",
    "\n",
    "# Part 1\n",
    "prob = prob_between(p, std, 0.25, 0.40)\n",
    "print(f\"{prob:0.4f}\")\n",
    "\n",
    "# Part 2\n",
    "prob = prob_less_than(p, std, 0.35)\n",
    "print(f\"{prob:0.4f}\")"
   ]
  },
  {
   "cell_type": "markdown",
   "metadata": {},
   "source": [
    "**Q11.** A random sample of size 900 is taken from a population in which the proportion with the characteristic of interest is p = 0.62. Find the indicated probabilities.\n",
    "1. P(0.60≤Pˆ≤0.64)\n",
    "2. P(0.57≤Pˆ≤0.67)"
   ]
  },
  {
   "cell_type": "code",
   "execution_count": 43,
   "metadata": {},
   "outputs": [
    {
     "name": "stdout",
     "output_type": "stream",
     "text": [
      "0.7836\n",
      "0.9980\n"
     ]
    }
   ],
   "source": [
    "p = 0.62\n",
    "n = 900\n",
    "\n",
    "std = sample_proportion_std(p, n)\n",
    "\n",
    "# Part 1\n",
    "prob = prob_between(p, std, 0.6, 0.64)\n",
    "print(f\"{prob:0.4f}\")\n",
    "\n",
    "# Part 2\n",
    "prob = prob_between(p, std, 0.57, 0.67)\n",
    "print(f\"{prob:0.4f}\")"
   ]
  },
  {
   "cell_type": "markdown",
   "metadata": {},
   "source": [
    "**Q12.** A random sample of size 1,100 is taken from a population in which the proportion with the characteristic of interest is p = 0.28. Find the indicated probabilities.\n",
    "1. P(0.27≤Pˆ≤0.29)\n",
    "2. P(0.23≤Pˆ≤0.33)"
   ]
  },
  {
   "cell_type": "code",
   "execution_count": 44,
   "metadata": {},
   "outputs": [
    {
     "name": "stdout",
     "output_type": "stream",
     "text": [
      "0.5399\n",
      "0.9998\n"
     ]
    }
   ],
   "source": [
    "p = 0.28\n",
    "n = 1100\n",
    "\n",
    "std = sample_proportion_std(p, n)\n",
    "\n",
    "# Part 1\n",
    "prob = prob_between(p, std, 0.27, 0.29)\n",
    "print(f\"{prob:0.4f}\")\n",
    "\n",
    "# Part 2\n",
    "prob = prob_between(p, std, 0.23, 0.33)\n",
    "print(f\"{prob:0.4f}\")"
   ]
  },
  {
   "cell_type": "markdown",
   "metadata": {},
   "source": [
    "### Applications"
   ]
  },
  {
   "cell_type": "markdown",
   "metadata": {},
   "source": [
    "**Q13.** Suppose that 8% of all males suffer some form of color blindness. Find the probability that in a random sample of 250 men at least 10% will suffer some form of color blindness. First verify that the sample is sufficiently large to use the normal distribution"
   ]
  },
  {
   "cell_type": "code",
   "execution_count": 45,
   "metadata": {},
   "outputs": [
    {
     "name": "stdout",
     "output_type": "stream",
     "text": [
      "[0.0285, 0.1315]\n",
      "(True, 0.08, 0.017158088471621775)\n",
      "0.12188183219787896\n"
     ]
    }
   ],
   "source": [
    "p = 0.08\n",
    "n = 250\n",
    "\n",
    "std = sample_proportion_std(p, n)\n",
    "l, u = proportion_interval(p, n)\n",
    "print(f\"[{l:0.4f}, {u:0.4f}]\")\n",
    "print(check_proportion_interval(p, n))\n",
    "\n",
    "prob = prob_greater_than(p, std, 0.1)\n",
    "print(f\"{prob}\")"
   ]
  },
  {
   "cell_type": "markdown",
   "metadata": {},
   "source": [
    "**Q14.** Suppose that 29% of all residents of a community favor annexation by a nearby municipality. Find the probability that in a random sample of 50 residents at least 35% will favor annexation. First verify that the sample is sufficiently large to use the normal distribution."
   ]
  },
  {
   "cell_type": "code",
   "execution_count": 46,
   "metadata": {},
   "outputs": [
    {
     "name": "stdout",
     "output_type": "stream",
     "text": [
      "[0.0975, 0.4825]\n",
      "(True, 0.29, 0.06417164482853778)\n",
      "0.17489610890423157\n"
     ]
    }
   ],
   "source": [
    "p = 0.29\n",
    "n = 50\n",
    "\n",
    "std = sample_proportion_std(p, n)\n",
    "l, u = proportion_interval(p, n)\n",
    "print(f\"[{l:0.4f}, {u:0.4f}]\")\n",
    "print(check_proportion_interval(p, n))\n",
    "\n",
    "prob = prob_greater_than(p, std, 0.35)\n",
    "print(f\"{prob}\")"
   ]
  },
  {
   "cell_type": "markdown",
   "metadata": {},
   "source": [
    "**Q15.** Suppose that 2% of all cell phone connections by a certain provider are dropped. Find the probability that in a random sample of 1,500 calls at most 40 will be dropped. First verify that the sample is sufficiently large to use the normal distribution."
   ]
  },
  {
   "cell_type": "code",
   "execution_count": 47,
   "metadata": {},
   "outputs": [
    {
     "name": "stdout",
     "output_type": "stream",
     "text": [
      "[0.0092, 0.0308]\n",
      "(True, 0.02, 0.0036147844564602557)\n",
      "0.9674\n"
     ]
    }
   ],
   "source": [
    "p = 0.02\n",
    "n = 1500\n",
    "\n",
    "std = sample_proportion_std(p, n)\n",
    "l, u = proportion_interval(p, n)\n",
    "print(f\"[{l:0.4f}, {u:0.4f}]\")\n",
    "print(check_proportion_interval(p, n))\n",
    "\n",
    "prob = prob_less_than(p, std, 40/n)\n",
    "print(f\"{prob:0.4f}\")"
   ]
  },
  {
   "cell_type": "markdown",
   "metadata": {},
   "source": [
    "**Q16.** Suppose that in 20% of all traffic accidents involving an injury, driver distraction in some form (for example, changing a radio station or texting) is a factor. Find the probability that in a random sample of 275 such accidents between 15% and 25% involve driver distraction in some form. First verify that the sample is sufficiently large to use the normal distribution."
   ]
  },
  {
   "cell_type": "code",
   "execution_count": 48,
   "metadata": {},
   "outputs": [
    {
     "name": "stdout",
     "output_type": "stream",
     "text": [
      "[0.1276, 0.2724]\n",
      "(True, 0.2, 0.02412090756622109)\n",
      "0.9618\n"
     ]
    }
   ],
   "source": [
    "p = 0.20\n",
    "n = 275\n",
    "\n",
    "std = sample_proportion_std(p, n)\n",
    "l, u = proportion_interval(p, n)\n",
    "print(f\"[{l:0.4f}, {u:0.4f}]\")\n",
    "print(check_proportion_interval(p, n))\n",
    "\n",
    "prob = prob_between(p, std, 0.15, 0.25)\n",
    "print(f\"{prob:0.4f}\")"
   ]
  },
  {
   "cell_type": "markdown",
   "metadata": {},
   "source": [
    "**Q17.** An airline claims that 72% of all its flights to a certain region arrive on time. In a random sample of 30 recent arrivals, 19 were on time. You may assume that the normal distribution applies.\n",
    "1. Compute the sample proportion.\n",
    "2. Assuming the airline’s claim is true, find the probability of a sample of size 30 producing a sample proportion so low as was observed in this sample."
   ]
  },
  {
   "cell_type": "code",
   "execution_count": 49,
   "metadata": {},
   "outputs": [
    {
     "name": "stdout",
     "output_type": "stream",
     "text": [
      "0.6333333333333333\n",
      "0.1452\n"
     ]
    }
   ],
   "source": [
    "p = 0.72\n",
    "n = 30\n",
    "\n",
    "# Part 1\n",
    "sample_proportion = 19/n\n",
    "print(f\"{sample_proportion}\")\n",
    "\n",
    "# Part 2\n",
    "std = sample_proportion_std(p, n)\n",
    "\n",
    "prob = prob_less_than(p, std, sample_proportion)\n",
    "print(f\"{prob:0.4f}\")"
   ]
  },
  {
   "cell_type": "markdown",
   "metadata": {},
   "source": [
    "**Q19.** In one study it was found that 86% of all homes have a functional smoke detector. Suppose this proportion is valid for all homes. Find the probability that in a random sample of 600 homes, between 80% and 90% will have a functional smoke detector. You may assume that the normal distribution applies."
   ]
  },
  {
   "cell_type": "code",
   "execution_count": 50,
   "metadata": {},
   "outputs": [
    {
     "name": "stdout",
     "output_type": "stream",
     "text": [
      "0.9976\n"
     ]
    }
   ],
   "source": [
    "p = 0.86\n",
    "n = 600\n",
    "\n",
    "std = sample_proportion_std(p, n)\n",
    "\n",
    "prob = prob_between(p, std, 0.8, 0.9)\n",
    "print(f\"{prob:0.4f}\")"
   ]
  },
  {
   "cell_type": "markdown",
   "metadata": {},
   "source": [
    "**Q21.** An outside financial auditor has observed that about 4% of all documents he examines contain an error of some sort. Assuming this proportion to be accurate, find the probability that a random sample of 700 documents will contain at least 30 with some sort of error. You may assume that the normal distribution applies."
   ]
  },
  {
   "cell_type": "code",
   "execution_count": 51,
   "metadata": {},
   "outputs": [
    {
     "name": "stdout",
     "output_type": "stream",
     "text": [
      "0.3498\n"
     ]
    }
   ],
   "source": [
    "p = 0.04\n",
    "n = 700\n",
    "\n",
    "std = sample_proportion_std(p, n)\n",
    "\n",
    "prob = prob_greater_than(p, std, 30.0/n)\n",
    "print(f\"{prob:0.4f}\")"
   ]
  },
  {
   "cell_type": "markdown",
   "metadata": {},
   "source": [
    "**Q22.** Suppose 7% of all households have no home telephone but depend completely on cell phones. Find the probability that in a random sample of 450 households, between 25 and 35 will have no home telephone. You may assume that the normal distribution applies."
   ]
  },
  {
   "cell_type": "code",
   "execution_count": 52,
   "metadata": {},
   "outputs": [
    {
     "name": "stdout",
     "output_type": "stream",
     "text": [
      "0.6262\n"
     ]
    }
   ],
   "source": [
    "p = 0.07\n",
    "n = 450\n",
    "\n",
    "std = sample_proportion_std(p, n)\n",
    "\n",
    "prob = prob_between(p, std, 25.0/n, 35.0/n)\n",
    "print(f\"{prob:0.4f}\")"
   ]
  },
  {
   "cell_type": "markdown",
   "metadata": {},
   "source": [
    "### Additional Exercises"
   ]
  },
  {
   "cell_type": "markdown",
   "metadata": {},
   "source": [
    "**Q23.** Some countries allow individual packages of prepackaged goods to weigh less than what is stated on the package, subject to certain conditions, such as the average of all packages being the stated weight or greater. Suppose that one requirement is that at most 4% of all packages marked 500 grams can weigh less than 490 grams. Assuming that a product actually meets this requirement, find the probability that in a random sample of 150 such packages the proportion weighing less than 490 grams is at least 3%. You may assume that the normal distribution applies."
   ]
  },
  {
   "cell_type": "code",
   "execution_count": 53,
   "metadata": {},
   "outputs": [
    {
     "name": "stdout",
     "output_type": "stream",
     "text": [
      "0.7340\n"
     ]
    }
   ],
   "source": [
    "p = 0.04\n",
    "n = 150\n",
    "\n",
    "std = sample_proportion_std(p, n)\n",
    "\n",
    "prob = prob_greater_than(p, std, 0.03)\n",
    "print(f\"{prob:0.4f}\")"
   ]
  },
  {
   "cell_type": "markdown",
   "metadata": {},
   "source": [
    "**Q24.** An economist wishes to investigate whether people are keeping cars longer now than in the past. He knows that five years ago, 38% of all passenger vehicles in operation were at least ten years old. He commissions a study in which 325 automobiles are randomly sampled. Of them, 132 are ten years old or older.\n",
    "1. Find the sample proportion.\n",
    "2. Find the probability that, when a sample of size 325 is drawn from a population in which the true proportion is 0.38, the sample proportion will be as large as the value you computed in part (1). You may assume that the normal distribution applies.\n",
    "3. Give an interpretation of the result in part (2). Is there strong evidence that people are keeping their cars longer than was the case five years ago?"
   ]
  },
  {
   "cell_type": "code",
   "execution_count": 54,
   "metadata": {},
   "outputs": [
    {
     "name": "stdout",
     "output_type": "stream",
     "text": [
      "0.40615384615384614\n",
      "0.1657\n"
     ]
    }
   ],
   "source": [
    "p = 0.38\n",
    "n = 325\n",
    "\n",
    "# Part 1\n",
    "sample_proportion = 132.0/n\n",
    "print(f\"{sample_proportion}\")\n",
    "\n",
    "# Part 2\n",
    "std = sample_proportion_std(p, n)\n",
    "prob = prob_greater_than(p, std, sample_proportion)\n",
    "print(f\"{prob:0.4f}\")"
   ]
  },
  {
   "cell_type": "markdown",
   "metadata": {},
   "source": [
    "**Q25.** A state public health department wishes to investigate the effectiveness of a campaign against smoking. Historically 22% of all adults in the state regularly smoked cigars or cigarettes. In a survey commissioned by the public health department, 279 of 1,500 randomly selected adults stated that they smoke regularly.\n",
    "1. Find the sample proportion.\n",
    "2. Find the probability that, when a sample of size 1,500 is drawn from a population in which the true proportion is 0.22, the sample proportion will be no larger than the value you computed in part (1). You may assume that the normal distribution applies.\n",
    "3. Give an interpretation of the result in part (2). How strong is the evidence that the campaign to reduce smoking has been effective?"
   ]
  },
  {
   "cell_type": "code",
   "execution_count": 55,
   "metadata": {},
   "outputs": [
    {
     "name": "stdout",
     "output_type": "stream",
     "text": [
      "0.186\n",
      "0.0007\n"
     ]
    }
   ],
   "source": [
    "p = 0.22\n",
    "n = 1500\n",
    "\n",
    "# Part 1\n",
    "sample_proportion = 279.0/n\n",
    "print(f\"{sample_proportion}\")\n",
    "\n",
    "# Part 2\n",
    "std = sample_proportion_std(p, n)\n",
    "prob = prob_less_than(p, std, sample_proportion)\n",
    "print(f\"{prob:0.4f}\")"
   ]
  },
  {
   "cell_type": "markdown",
   "metadata": {},
   "source": [
    "**Q27.** An ordinary die is “fair” or “balanced” if each face has an equal chance of landing on top when the die is rolled. Thus the proportion of times a three is observed in a large number of tosses is expected to be close to 1/6 or 0.16⎯⎯. Suppose a die is rolled 240 times and shows three on top 36 times, for a sample proportion of 0.15.\n",
    "1. Find the probability that a fair die would produce a proportion of 0.15 or less. You may assume that the normal distribution applies.\n",
    "2. Give an interpretation of the result in part (b). How strong is the evidence that the die is not fair?\n",
    "3. Suppose the sample proportion 0.15 came from rolling the die 2,400 times instead of only 240 times. Rework part (a) under these circumstances.\n",
    "4. Give an interpretation of the result in part (c). How strong is the evidence that the die is not fair?"
   ]
  },
  {
   "cell_type": "code",
   "execution_count": 56,
   "metadata": {},
   "outputs": [
    {
     "name": "stdout",
     "output_type": "stream",
     "text": [
      "0.3363\n",
      "0.0907\n"
     ]
    }
   ],
   "source": [
    "p = 0.16\n",
    "n = 240\n",
    "\n",
    "std = sample_proportion_std(p, n)\n",
    "#print(f\"{sample_proportion}\")\n",
    "\n",
    "# Part 1\n",
    "prob = prob_less_than(p, std, 0.15)\n",
    "print(f\"{prob:0.4f}\")\n",
    "\n",
    "# Part 2\n",
    "n = 2400\n",
    "std = sample_proportion_std(p, n)\n",
    "prob = prob_less_than(p, std, 0.15)\n",
    "print(f\"{prob:0.4f}\")"
   ]
  },
  {
   "cell_type": "code",
   "execution_count": null,
   "metadata": {},
   "outputs": [],
   "source": []
  }
 ],
 "metadata": {
  "kernelspec": {
   "display_name": "Python 3",
   "language": "python",
   "name": "python3"
  },
  "language_info": {
   "codemirror_mode": {
    "name": "ipython",
    "version": 3
   },
   "file_extension": ".py",
   "mimetype": "text/x-python",
   "name": "python",
   "nbconvert_exporter": "python",
   "pygments_lexer": "ipython3",
   "version": "3.12.3"
  }
 },
 "nbformat": 4,
 "nbformat_minor": 2
}
