{
 "cells": [
  {
   "cell_type": "markdown",
   "metadata": {},
   "source": [
    "# Solutions for selected exercises from Chapter 6\n"
   ]
  },
  {
   "cell_type": "markdown",
   "metadata": {},
   "source": [
    "## Section 6.1 The Mean and Standard Deviation of the Sample Mean"
   ]
  },
  {
   "cell_type": "code",
   "execution_count": 36,
   "metadata": {},
   "outputs": [],
   "source": [
    "import math\n",
    "import scipy.stats as stats\n"
   ]
  },
  {
   "cell_type": "code",
   "execution_count": 37,
   "metadata": {},
   "outputs": [],
   "source": [
    "# Get the sample mean and sample standard deviation from the population mean\n",
    "# and population standard deviation and the number of samples used.\n",
    "def sample_stats(pmean, pstd, n):\n",
    "    sample_mean = pmean\n",
    "    sample_std = pstd / math.sqrt(n)\n",
    "    return (sample_mean, sample_std)"
   ]
  },
  {
   "cell_type": "markdown",
   "metadata": {},
   "source": [
    "**Q1.** Random samples of size 225 are drawn from a population with mean 100 and standard deviation 20. Find the mean and standard deviation of the sample mean."
   ]
  },
  {
   "cell_type": "code",
   "execution_count": 38,
   "metadata": {},
   "outputs": [
    {
     "name": "stdout",
     "output_type": "stream",
     "text": [
      "Sample mean: 100\n",
      "Sample Standard Deviation: 1.33\n"
     ]
    }
   ],
   "source": [
    "n = 225\n",
    "pmu = 100\n",
    "psd = 20\n",
    "\n",
    "sample_mean = pmu\n",
    "print(f\"Sample mean: {sample_mean}\")\n",
    "sample_sd = psd / math.sqrt(n)\n",
    "print(f\"Sample Standard Deviation: {sample_sd:0.2f}\")"
   ]
  },
  {
   "cell_type": "markdown",
   "metadata": {},
   "source": [
    "**Q2.** Random samples of size 64 are drawn from a population with mean 32 and standard deviation 5. Find the mean and standard deviation of the sample mean."
   ]
  },
  {
   "cell_type": "code",
   "execution_count": 39,
   "metadata": {},
   "outputs": [
    {
     "name": "stdout",
     "output_type": "stream",
     "text": [
      "Sample mean: 32\n",
      "Sample Standard Deviation: 0.62\n"
     ]
    }
   ],
   "source": [
    "n = 64\n",
    "pmean = 32\n",
    "psd = 5\n",
    "\n",
    "sample_mean = pmean\n",
    "sample_sd = psd / math.sqrt(n)\n",
    "\n",
    "print(f\"Sample mean: {sample_mean}\")\n",
    "print(f\"Sample Standard Deviation: {sample_sd:0.2f}\")"
   ]
  },
  {
   "cell_type": "markdown",
   "metadata": {},
   "source": [
    "**Q3.** A population has mean 75 and standard deviation 12.\n",
    "\n",
    "- a. Random samples of size 121 are taken. Find the mean and standard deviation of the sample mean.\n",
    "- b. How would the answers to part (a) change if the size of the samples were 400 instead of 121?"
   ]
  },
  {
   "cell_type": "code",
   "execution_count": 40,
   "metadata": {},
   "outputs": [
    {
     "name": "stdout",
     "output_type": "stream",
     "text": [
      "Sample mean: 75\n",
      "Sample Standard Deviation: 1.09\n",
      "Sample mean: 75\n",
      "Sample Standard Deviation: 0.60\n"
     ]
    }
   ],
   "source": [
    "pmean = 75\n",
    "psd = 12\n",
    "n = 121\n",
    "\n",
    "sample_mean = pmean\n",
    "sample_sd = psd / math.sqrt(n)\n",
    "\n",
    "print(f\"Sample mean: {sample_mean}\")\n",
    "print(f\"Sample Standard Deviation: {sample_sd:0.2f}\")\n",
    "\n",
    "# Part b\n",
    "n = 400\n",
    "sample_sd = psd / math.sqrt(n)\n",
    "\n",
    "print(f\"Sample mean: {sample_mean}\")\n",
    "print(f\"Sample Standard Deviation: {sample_sd:0.2f}\")"
   ]
  },
  {
   "cell_type": "markdown",
   "metadata": {},
   "source": [
    "The sample mean ($\\mu \\bar{x}$) would stay the same. The sample standard deviation ($\\sigma \\bar{x}$) decreases to 0.6"
   ]
  },
  {
   "cell_type": "markdown",
   "metadata": {},
   "source": [
    "**Q4.** A population has mean 5.75 and standard deviation 1.02.\n",
    "\n",
    "- a. Random samples of size 81 are taken. Find the mean and standard deviation of the sample mean.\n",
    "- b. How would the answers to part (a) change if the size of the samples were 25 instead of 81?"
   ]
  },
  {
   "cell_type": "code",
   "execution_count": 41,
   "metadata": {},
   "outputs": [
    {
     "name": "stdout",
     "output_type": "stream",
     "text": [
      "Sample mean: 5.75\n",
      "Sample Standard Deviation: 0.11\n",
      "Sample mean: 5.75\n",
      "Sample Standard Deviation: 0.20\n"
     ]
    }
   ],
   "source": [
    "pmean = 5.75\n",
    "psd = 1.02\n",
    "\n",
    "# Part a\n",
    "n = 81\n",
    "sample_mean = pmean\n",
    "sample_sd = psd / math.sqrt(n)\n",
    "\n",
    "print(f\"Sample mean: {sample_mean}\")\n",
    "print(f\"Sample Standard Deviation: {sample_sd:0.2f}\")\n",
    "\n",
    "# Part b\n",
    "n = 25\n",
    "sample_mean = pmean\n",
    "sample_sd = psd / math.sqrt(n)\n",
    "\n",
    "print(f\"Sample mean: {sample_mean}\")\n",
    "print(f\"Sample Standard Deviation: {sample_sd:0.2f}\")"
   ]
  },
  {
   "cell_type": "markdown",
   "metadata": {},
   "source": [
    "The sample mean remains the same. The sample standard deviation increases to 0.2"
   ]
  },
  {
   "cell_type": "markdown",
   "metadata": {},
   "source": [
    "## Section 6.2 The Sampling Distribution of the Sample Mean"
   ]
  },
  {
   "cell_type": "markdown",
   "metadata": {},
   "source": [
    "### Basic Exercises"
   ]
  },
  {
   "cell_type": "markdown",
   "metadata": {},
   "source": [
    "**Q1.** A population has mean 128 and standard deviation 22.\n",
    "\n",
    "1. Find the mean and standard deviation of $\\bar{X}$ for samples of size 36.\n",
    "2. Find the probability that the mean of a sample of size 36 will be within 10 units of the population mean, that is, between 118 and 138."
   ]
  },
  {
   "cell_type": "code",
   "execution_count": 42,
   "metadata": {},
   "outputs": [
    {
     "name": "stdout",
     "output_type": "stream",
     "text": [
      "Sample mean: 128\n",
      "Sample std: 3.67\n",
      "Probability that the mean is within 10 units for the population mean: 0.9936\n"
     ]
    }
   ],
   "source": [
    "pmean = 128\n",
    "pstd = 22\n",
    "n = 36\n",
    "\n",
    "# Part 1\n",
    "sample_mean = pmean\n",
    "sample_std = pstd / math.sqrt(n)\n",
    "\n",
    "print(f\"Sample mean: {sample_mean}\")\n",
    "print(f\"Sample std: {sample_std:0.2f}\")\n",
    "\n",
    "# Part 2\n",
    "lower_prob = stats.norm.cdf(118, loc=sample_mean, scale=sample_std)\n",
    "upper_prob = stats.norm.cdf(138, loc=sample_mean, scale=sample_std)\n",
    "print(\"Probability that the mean is within 10 units for the population mean: %0.4f\" % (upper_prob - lower_prob))\n"
   ]
  },
  {
   "cell_type": "markdown",
   "metadata": {},
   "source": [
    "**Q2.** A population has mean 1,542 and standard deviation 246.\n",
    "\n",
    "1. Find the mean and standard deviation of $\\bar{X}$ for samples of size 100.\n",
    "2. Find the probability that the mean of a sample of size 100 will be within 100 units of the population mean, that is, between 1,442 and 1,642."
   ]
  },
  {
   "cell_type": "code",
   "execution_count": 43,
   "metadata": {},
   "outputs": [
    {
     "name": "stdout",
     "output_type": "stream",
     "text": [
      "Sample mean: 1542\n",
      "Sample std: 24.60\n",
      "Probability that the mean is within 100 units for the population mean: 1.0000\n"
     ]
    }
   ],
   "source": [
    "pmean = 1542\n",
    "pstd = 246\n",
    "n = 100\n",
    "\n",
    "# Part 1\n",
    "sample_mean = pmean\n",
    "sample_std = pstd / math.sqrt(n)\n",
    "\n",
    "print(f\"Sample mean: {sample_mean}\")\n",
    "print(f\"Sample std: {sample_std:0.2f}\")\n",
    "\n",
    "# Part 2\n",
    "lower_prob = stats.norm.cdf(1442, loc=pmean, scale=sample_std)\n",
    "upper_prob = stats.norm.cdf(1642, loc=pmean, scale=sample_std)\n",
    "print(\"Probability that the mean is within 100 units for the population mean: %0.4f\" % (upper_prob - lower_prob))"
   ]
  },
  {
   "cell_type": "markdown",
   "metadata": {},
   "source": [
    "**Q3.** A population has mean 73.5 and standard deviation 2.5.\n",
    "\n",
    "1. Find the mean and standard deviation of $\\bar{X}$ for samples of size 30.\n",
    "2. Find the probability that the mean of a sample of size 30 will be less than 72."
   ]
  },
  {
   "cell_type": "code",
   "execution_count": 44,
   "metadata": {},
   "outputs": [
    {
     "name": "stdout",
     "output_type": "stream",
     "text": [
      "Sample mean: 73.5\n",
      "Sample std: 0.46\n",
      "Probability: 0.0005\n"
     ]
    }
   ],
   "source": [
    "pmean = 73.5\n",
    "pstd = 2.5\n",
    "n = 30\n",
    "\n",
    "# Part 1\n",
    "sample_mean = pmean\n",
    "sample_std = pstd / math.sqrt(n)\n",
    "\n",
    "print(f\"Sample mean: {sample_mean}\")\n",
    "print(f\"Sample std: {sample_std:0.2f}\")\n",
    "\n",
    "# Part 2\n",
    "prob = stats.norm.cdf(72, loc=pmean, scale=sample_std)\n",
    "print(f\"Probability: {prob:0.4f}\")"
   ]
  },
  {
   "cell_type": "markdown",
   "metadata": {},
   "source": [
    "**Q4.** A population has mean 48.4 and standard deviation 6.3.\n",
    "\n",
    "1. Find the mean and standard deviation of $\\bar{X}$ for samples of size 64.\n",
    "2. Find the probability that the mean of a sample of size 64 will be less than 46.7."
   ]
  },
  {
   "cell_type": "code",
   "execution_count": 45,
   "metadata": {},
   "outputs": [
    {
     "name": "stdout",
     "output_type": "stream",
     "text": [
      "Sample mean: 48.4\n",
      "Sample std: 0.79\n",
      "Probability: 0.0154\n"
     ]
    }
   ],
   "source": [
    "pmean = 48.4\n",
    "pstd = 6.3\n",
    "n = 64\n",
    "\n",
    "# Part 1\n",
    "sample_mean = pmean\n",
    "sample_std = pstd / math.sqrt(n)\n",
    "\n",
    "print(f\"Sample mean: {sample_mean}\")\n",
    "print(f\"Sample std: {sample_std:0.2f}\")\n",
    "\n",
    "# Part 2\n",
    "prob = stats.norm.cdf(46.7, loc=pmean, scale=sample_std)\n",
    "print(f\"Probability: {prob:0.4f}\")"
   ]
  },
  {
   "cell_type": "markdown",
   "metadata": {},
   "source": [
    "**Q5.** A normally distributed population has mean 25.6 and standard deviation 3.3.\n",
    "\n",
    "1. Find the probability that a single randomly selected element X of the population exceeds 30.\n",
    "2. Find the mean and standard deviation of $\\bar{X}$ for samples of size 9.\n",
    "3. Find the probability that the mean of a sample of size 9 drawn from this population exceeds 30."
   ]
  },
  {
   "cell_type": "code",
   "execution_count": 46,
   "metadata": {},
   "outputs": [
    {
     "name": "stdout",
     "output_type": "stream",
     "text": [
      "Probability: 0.0912\n",
      "Sample mean: 25.6\n",
      "Sample std: 1.10\n",
      "Probability: 0.0000\n"
     ]
    }
   ],
   "source": [
    "pmean = 25.6\n",
    "pstd = 3.3\n",
    "n = 1\n",
    "\n",
    "# Part 1\n",
    "# A sample size of 1 means that the sample mean and the standard deviation is the same as the population.\n",
    "prob = 1 - stats.norm.cdf(30, loc=pmean, scale=pstd)\n",
    "print(f\"Probability: {prob:0.4f}\")\n",
    "\n",
    "# Part 2\n",
    "n = 9\n",
    "sample_mean = pmean\n",
    "sample_std = pstd / math.sqrt(n)\n",
    "\n",
    "print(f\"Sample mean: {sample_mean}\")\n",
    "print(f\"Sample std: {sample_std:0.2f}\")\n",
    "\n",
    "# Part 3\n",
    "prob = 1 - stats.norm.cdf(30, loc=sample_mean, scale=sample_std)\n",
    "print(f\"Probability: {prob:0.4f}\")"
   ]
  },
  {
   "cell_type": "markdown",
   "metadata": {},
   "source": [
    "**Q6.** A normally distributed population has mean 57.7 and standard deviation 12.1.\n",
    "\n",
    "1. Find the probability that a single randomly selected element X of the population is less than 45.\n",
    "2. Find the mean and standard deviation of $\\bar{X}$ for samples of size 16.\n",
    "3. Find the probability that the mean of a sample of size 16 drawn from this population is less than 45."
   ]
  },
  {
   "cell_type": "code",
   "execution_count": 47,
   "metadata": {},
   "outputs": [
    {
     "name": "stdout",
     "output_type": "stream",
     "text": [
      "Probability: 0.1470\n",
      "Sample mean: 57.7\n",
      "Sample std: 3.02\n",
      "Probability: 0.0000\n"
     ]
    }
   ],
   "source": [
    "pmean = 57.7\n",
    "pstd = 12.1\n",
    "\n",
    "# Part 1\n",
    "# A sample size of 1 means that the sample mean and the standard deviation is the same as the population.\n",
    "prob = stats.norm.cdf(45, loc=pmean, scale=pstd)\n",
    "print(f\"Probability: {prob:0.4f}\")\n",
    "\n",
    "# Part 2\n",
    "n = 16\n",
    "sample_mean = pmean\n",
    "sample_std = pstd / math.sqrt(n)\n",
    "\n",
    "print(f\"Sample mean: {sample_mean}\")\n",
    "print(f\"Sample std: {sample_std:0.2f}\")\n",
    "\n",
    "# Part 3\n",
    "prob = stats.norm.cdf(45, loc=sample_mean, scale=sample_std)\n",
    "print(f\"Probability: {prob:0.4f}\")"
   ]
  },
  {
   "cell_type": "markdown",
   "metadata": {},
   "source": [
    "**Q7.** A population has mean 557 and standard deviation 35.\n",
    "\n",
    "1. Find the mean and standard deviation of $\\bar{X}$ for samples of size 50.\n",
    "2. Find the probability that the mean of a sample of size 50 will be more than 570."
   ]
  },
  {
   "cell_type": "code",
   "execution_count": 48,
   "metadata": {},
   "outputs": [
    {
     "name": "stdout",
     "output_type": "stream",
     "text": [
      "Sample mean: 557\n",
      "Sample std: 4.9497\n",
      "Probability: 0.0043\n"
     ]
    }
   ],
   "source": [
    "pmean = 557\n",
    "pstd = 35\n",
    "\n",
    "# Part 1\n",
    "n = 50\n",
    "sample_mean = pmean\n",
    "sample_std = pstd / math.sqrt(n)\n",
    "\n",
    "print(f\"Sample mean: {sample_mean}\")\n",
    "print(f\"Sample std: {sample_std:0.4f}\")\n",
    "\n",
    "# Part 2\n",
    "prob = 1 - stats.norm.cdf(570, loc=sample_mean, scale=sample_std)\n",
    "print(f\"Probability: {prob:0.4f}\")"
   ]
  },
  {
   "cell_type": "markdown",
   "metadata": {},
   "source": [
    "**Q8.** A population has mean 16 and standard deviation 1.7.\n",
    "\n",
    "1. Find the mean and standard deviation of $\\bar{X}$ for samples of size 80.\n",
    "2. Find the probability that the mean of a sample of size 80 will be more than 16.4."
   ]
  },
  {
   "cell_type": "code",
   "execution_count": 49,
   "metadata": {},
   "outputs": [
    {
     "name": "stdout",
     "output_type": "stream",
     "text": [
      "Sample mean: 16\n",
      "Sample std: 0.1901\n",
      "Probability: 0.0177\n"
     ]
    }
   ],
   "source": [
    "pmean = 16\n",
    "pstd = 1.7\n",
    "\n",
    "# Part 1\n",
    "n = 80\n",
    "sample_mean = pmean\n",
    "sample_std = pstd / math.sqrt(n)\n",
    "\n",
    "print(f\"Sample mean: {sample_mean}\")\n",
    "print(f\"Sample std: {sample_std:0.4f}\")\n",
    "\n",
    "# Part 2\n",
    "prob = 1 - stats.norm.cdf(16.4, loc=sample_mean, scale=sample_std)\n",
    "print(f\"Probability: {prob:0.4f}\")"
   ]
  },
  {
   "cell_type": "markdown",
   "metadata": {},
   "source": [
    "**Q9.** A normally distributed population has mean 1,214 and standard deviation 122.\n",
    "\n",
    "1. Find the probability that a single randomly selected element X of the population is between 1,100 and 1,300.\n",
    "2. Find the mean and standard deviation of $\\bar{X}$ for samples of size 25.\n",
    "3. Find the probability that the mean of a sample of size 25 drawn from this population is between 1,100 and 1,300."
   ]
  },
  {
   "cell_type": "code",
   "execution_count": 50,
   "metadata": {},
   "outputs": [
    {
     "name": "stdout",
     "output_type": "stream",
     "text": [
      "Probability: 0.5845\n",
      "Sample mean: 1214\n",
      "Sample std: 24.4000\n",
      "Probability: 0.9998\n"
     ]
    }
   ],
   "source": [
    "pmean = 1214\n",
    "pstd = 122\n",
    "\n",
    "# Part 1\n",
    "lprob = stats.norm.cdf(1100, loc=pmean, scale=pstd)\n",
    "uprob = stats.norm.cdf(1300, loc=pmean, scale=pstd)\n",
    "print(f\"Probability: {uprob-lprob:0.4f}\")\n",
    "\n",
    "# Part 2\n",
    "n = 25\n",
    "sample_mean = pmean\n",
    "sample_std = pstd / math.sqrt(n)\n",
    "\n",
    "print(f\"Sample mean: {sample_mean}\")\n",
    "print(f\"Sample std: {sample_std:0.4f}\")\n",
    "\n",
    "# Part 2\n",
    "lprob = stats.norm.cdf(1100, loc=sample_mean, scale=sample_std)\n",
    "uprob = stats.norm.cdf(1300, loc=sample_mean, scale=sample_std)\n",
    "print(f\"Probability: {uprob-lprob:0.4f}\")\n"
   ]
  },
  {
   "cell_type": "markdown",
   "metadata": {},
   "source": [
    "**Q10.** A normally distributed population has mean 57,800 and standard deviation 750.\n",
    "\n",
    "1. Find the probability that a single randomly selected element X of the population is between 57,000 and 58,000.\n",
    "2. Find the mean and standard deviation of $\\bar{X}$ for samples of size 100.\n",
    "3. Find the probability that the mean of a sample of size 100 drawn from this population is between 57,000 and 58,000."
   ]
  },
  {
   "cell_type": "code",
   "execution_count": 51,
   "metadata": {},
   "outputs": [
    {
     "name": "stdout",
     "output_type": "stream",
     "text": [
      "Probability: 0.4621\n",
      "Sample mean: 57800\n",
      "Sample std: 75.0000\n",
      "Probability: 0.9962\n"
     ]
    }
   ],
   "source": [
    "pmean = 57800\n",
    "pstd = 750\n",
    "\n",
    "# Part 1\n",
    "lprob = stats.norm.cdf(57000, loc=pmean, scale=pstd)\n",
    "uprob = stats.norm.cdf(58000, loc=pmean, scale=pstd)\n",
    "print(f\"Probability: {uprob-lprob:0.4f}\")\n",
    "\n",
    "# Part 2\n",
    "n = 100\n",
    "sample_mean = pmean\n",
    "sample_std = pstd / math.sqrt(n)\n",
    "\n",
    "print(f\"Sample mean: {sample_mean}\")\n",
    "print(f\"Sample std: {sample_std:0.4f}\")\n",
    "\n",
    "# Part 2\n",
    "lprob = stats.norm.cdf(57000, loc=sample_mean, scale=sample_std)\n",
    "uprob = stats.norm.cdf(58000, loc=sample_mean, scale=sample_std)\n",
    "print(f\"Probability: {uprob-lprob:0.4f}\")"
   ]
  },
  {
   "cell_type": "markdown",
   "metadata": {},
   "source": [
    "**Q11.** A population has mean 72 and standard deviation 6.\n",
    "\n",
    "1. Find the mean and standard deviation of $\\bar{X}$ for samples of size 45.\n",
    "2. Find the probability that the mean of a sample of size 45 will differ from the population mean 72 by at least 2 units, that is, is either less than 70 or more than 74. (Hint: One way to solve the problem is to first find the probability of the complementary event.)"
   ]
  },
  {
   "cell_type": "code",
   "execution_count": 52,
   "metadata": {},
   "outputs": [
    {
     "name": "stdout",
     "output_type": "stream",
     "text": [
      "Sample mean: 72\n",
      "Sample std: 0.8944\n",
      "Probability: 0.0253\n"
     ]
    }
   ],
   "source": [
    "pmean = 72\n",
    "pstd = 6\n",
    "\n",
    "# Part 1\n",
    "n = 45\n",
    "sample_mean = pmean\n",
    "sample_std = pstd / math.sqrt(n)\n",
    "\n",
    "print(f\"Sample mean: {sample_mean}\")\n",
    "print(f\"Sample std: {sample_std:0.4f}\")\n",
    "\n",
    "# Part 2\n",
    "lprob = stats.norm.cdf(70, loc=sample_mean, scale=sample_std)\n",
    "uprob = 1 - stats.norm.cdf(74, loc=sample_mean, scale=sample_std)\n",
    "prob = lprob + uprob\n",
    "print(f\"Probability: {prob:0.4f}\")"
   ]
  },
  {
   "cell_type": "markdown",
   "metadata": {},
   "source": [
    "**Q12.** A population has mean 12 and standard deviation 1.5.\n",
    "\n",
    "1. Find the mean and standard deviation of $\\bar{X}$ for samples of size 90.\n",
    "2. Find the probability that the mean of a sample of size 90 will differ from the population mean 12 by at least 0.3 unit, that is, is either less than 11.7 or more than 12.3. (Hint: One way to solve the problem is to first find the probability of the complementary event.)"
   ]
  },
  {
   "cell_type": "code",
   "execution_count": 53,
   "metadata": {},
   "outputs": [
    {
     "name": "stdout",
     "output_type": "stream",
     "text": [
      "Sample mean: 12\n",
      "Sample std: 0.1581\n",
      "Probability: 0.0578\n"
     ]
    }
   ],
   "source": [
    "pmean = 12\n",
    "pstd = 1.5\n",
    "\n",
    "# Part 1\n",
    "n = 90\n",
    "sample_mean = pmean\n",
    "sample_std = pstd / math.sqrt(n)\n",
    "\n",
    "print(f\"Sample mean: {sample_mean}\")\n",
    "print(f\"Sample std: {sample_std:0.4f}\")\n",
    "\n",
    "# Part 2\n",
    "lprob = stats.norm.cdf(11.7, loc=sample_mean, scale=sample_std)\n",
    "uprob = 1 - stats.norm.cdf(12.3, loc=sample_mean, scale=sample_std)\n",
    "prob = lprob + uprob\n",
    "print(f\"Probability: {prob:0.4f}\")"
   ]
  },
  {
   "cell_type": "markdown",
   "metadata": {},
   "source": [
    "### Applications"
   ]
  },
  {
   "cell_type": "markdown",
   "metadata": {},
   "source": [
    "**Q13.** Suppose the mean number of days to germination of a variety of seed is 22, with standard deviation 2.3 days. Find the probability that the mean germination time of a sample of 160 seeds will be within 0.5 day of the population mean."
   ]
  },
  {
   "cell_type": "code",
   "execution_count": 54,
   "metadata": {},
   "outputs": [
    {
     "name": "stdout",
     "output_type": "stream",
     "text": [
      "Probability: 0.9940\n"
     ]
    }
   ],
   "source": [
    "pmean = 22\n",
    "pstd = 2.3\n",
    "\n",
    "n = 160\n",
    "sample_mean = pmean\n",
    "sample_std = pstd / math.sqrt(n)\n",
    "\n",
    "lprob = stats.norm.cdf(pmean - 0.5, loc=sample_mean, scale=sample_std)\n",
    "uprob = stats.norm.cdf(pmean + 0.5, loc=sample_mean, scale=sample_std)\n",
    "prob = uprob - lprob\n",
    "print(f\"Probability: {prob:0.4f}\")"
   ]
  },
  {
   "cell_type": "markdown",
   "metadata": {},
   "source": [
    "**Q14.** Suppose the mean length of time that a caller is placed on hold when telephoning a customer service center is 23.8 seconds, with standard deviation 4.6 seconds. Find the probability that the mean length of time on hold in a sample of 1,200 calls will be within 0.5 second of the population mean."
   ]
  },
  {
   "cell_type": "code",
   "execution_count": 55,
   "metadata": {},
   "outputs": [
    {
     "name": "stdout",
     "output_type": "stream",
     "text": [
      "Probability: 0.9998\n"
     ]
    }
   ],
   "source": [
    "pmean = 23.8\n",
    "pstd = 4.6\n",
    "\n",
    "n = 1200\n",
    "sample_mean = pmean\n",
    "sample_std = pstd / math.sqrt(n)\n",
    "\n",
    "lprob = stats.norm.cdf(pmean - 0.5, loc=sample_mean, scale=sample_std)\n",
    "uprob = stats.norm.cdf(pmean + 0.5, loc=sample_mean, scale=sample_std)\n",
    "prob = uprob - lprob\n",
    "print(f\"Probability: {prob:0.4f}\")"
   ]
  },
  {
   "cell_type": "markdown",
   "metadata": {},
   "source": [
    "**Q15.** Suppose the mean amount of cholesterol in eggs labeled “large” is 186 milligrams, with standard deviation 7 milligrams. Find the probability that the mean amount of cholesterol in a sample of 144 eggs will be within 2 milligrams of the population mean."
   ]
  },
  {
   "cell_type": "code",
   "execution_count": 56,
   "metadata": {},
   "outputs": [
    {
     "name": "stdout",
     "output_type": "stream",
     "text": [
      "Probability: 0.9994\n"
     ]
    }
   ],
   "source": [
    "pmean = 186\n",
    "pstd = 7\n",
    "\n",
    "n = 144\n",
    "sample_mean = pmean\n",
    "sample_std = pstd / math.sqrt(n)\n",
    "\n",
    "range = 2\n",
    "lprob = stats.norm.cdf(pmean - range, loc=sample_mean, scale=sample_std)\n",
    "uprob = stats.norm.cdf(pmean + range, loc=sample_mean, scale=sample_std)\n",
    "prob = uprob - lprob\n",
    "print(f\"Probability: {prob:0.4f}\")"
   ]
  },
  {
   "cell_type": "markdown",
   "metadata": {},
   "source": [
    "**Q16.** Suppose that in one region of the country the mean amount of credit card debt per household in households having credit card debt is $15,250, with standard deviation $7,125. Find the probability that the mean amount of credit card debt in a sample of 1,600 such households will be within $300 of the population mean."
   ]
  },
  {
   "cell_type": "code",
   "execution_count": 57,
   "metadata": {},
   "outputs": [
    {
     "name": "stdout",
     "output_type": "stream",
     "text": [
      "Probability: 0.9079\n"
     ]
    }
   ],
   "source": [
    "pmean = 15250\n",
    "pstd = 7125\n",
    "n = 1600\n",
    "sample_mean = pmean\n",
    "sample_std = pstd / math.sqrt(n)\n",
    "\n",
    "range = 300\n",
    "lprob = stats.norm.cdf(pmean - range, loc=sample_mean, scale=sample_std)\n",
    "uprob = stats.norm.cdf(pmean + range, loc=sample_mean, scale=sample_std)\n",
    "prob = uprob - lprob\n",
    "print(f\"Probability: {prob:0.4f}\")"
   ]
  },
  {
   "cell_type": "markdown",
   "metadata": {},
   "source": [
    "**Q17.** Suppose speeds of vehicles on a particular stretch of roadway are normally distributed with mean 36.6 mph and standard deviation 1.7 mph.\n",
    "\n",
    "1. Find the probability that the speed $X$ of a randomly selected vehicle is between 35 and 40 mph.\n",
    "2. Find the probability that the mean speed $\\bar{X}$ of 20 randomly selected vehicles is between 35 and 40 mph."
   ]
  },
  {
   "cell_type": "code",
   "execution_count": 58,
   "metadata": {},
   "outputs": [
    {
     "name": "stdout",
     "output_type": "stream",
     "text": [
      "Probability of 1 random selection: 0.8039\n",
      "Probability of sample: 1.0000\n"
     ]
    }
   ],
   "source": [
    "pmean = 36.6\n",
    "pstd = 1.7\n",
    "lprob = stats.norm.cdf(35, loc=pmean, scale=pstd)\n",
    "uprob = stats.norm.cdf(40, loc=pmean, scale=pstd)\n",
    "prob = uprob - lprob\n",
    "print(f\"Probability of 1 random selection: {prob:0.4f}\")\n",
    "\n",
    "n = 20\n",
    "sample_mean = pmean\n",
    "sample_std = pstd / math.sqrt(n)\n",
    "\n",
    "lprob = stats.norm.cdf(35, loc=sample_mean, scale=sample_std)\n",
    "uprob = stats.norm.cdf(40, loc=sample_mean, scale=sample_std)\n",
    "prob = uprob - lprob\n",
    "print(f\"Probability of sample: {prob:0.4f}\")"
   ]
  },
  {
   "cell_type": "markdown",
   "metadata": {},
   "source": [
    "**Q18.** Many sharks enter a state of tonic immobility when inverted. Suppose that in a particular species of sharks the time a shark remains in a state of tonic immobility when inverted is normally distributed with mean 11.2 minutes and standard deviation 1.1 minutes.\n",
    "\n",
    "1. If a biologist induces a state of tonic immobility in such a shark in order to study it, find the probability that the shark will remain in this state for between 10 and 13 minutes.\n",
    "2. When a biologist wishes to estimate the mean time that such sharks stay immobile by inducing tonic immobility in each of a sample of 12 sharks, find the probability that mean time of immobility in the sample will be between 10 and 13 minutes."
   ]
  },
  {
   "cell_type": "code",
   "execution_count": 59,
   "metadata": {},
   "outputs": [
    {
     "name": "stdout",
     "output_type": "stream",
     "text": [
      "Probability of 1 random selection: 0.8115\n",
      "Probability of sample: 0.9999\n"
     ]
    }
   ],
   "source": [
    "pmean = 11.2\n",
    "pstd = 1.1\n",
    "lprob = stats.norm.cdf(10, loc=pmean, scale=pstd)\n",
    "uprob = stats.norm.cdf(13, loc=pmean, scale=pstd)\n",
    "prob = uprob - lprob\n",
    "print(f\"Probability of 1 random selection: {prob:0.4f}\")\n",
    "\n",
    "n = 12\n",
    "sample_mean = pmean\n",
    "sample_std = pstd / math.sqrt(n)\n",
    "\n",
    "lprob = stats.norm.cdf(10, loc=sample_mean, scale=sample_std)\n",
    "uprob = stats.norm.cdf(13, loc=sample_mean, scale=sample_std)\n",
    "prob = uprob - lprob\n",
    "print(f\"Probability of sample: {prob:0.4f}\")"
   ]
  },
  {
   "cell_type": "markdown",
   "metadata": {},
   "source": [
    "**Q19.** Suppose the mean cost across the country of a 30-day supply of a generic drug is $46.58, with standard deviation $4.84. Find the probability that the mean of a sample of 100 prices of 30-day supplies of this drug will be between $45 and $50."
   ]
  },
  {
   "cell_type": "code",
   "execution_count": 60,
   "metadata": {},
   "outputs": [
    {
     "name": "stdout",
     "output_type": "stream",
     "text": [
      "Probability: 0.9995\n"
     ]
    }
   ],
   "source": [
    "pmean = 46.58\n",
    "pstd = 4.84\n",
    "n = 100\n",
    "sample_mean = pmean\n",
    "sample_std = pstd / math.sqrt(n)\n",
    "\n",
    "lprob = stats.norm.cdf(45, loc=sample_mean, scale=sample_std)\n",
    "uprob = stats.norm.cdf(50, loc=sample_mean, scale=sample_std)\n",
    "prob = uprob - lprob\n",
    "print(f\"Probability: {prob:0.4f}\")"
   ]
  },
  {
   "cell_type": "markdown",
   "metadata": {},
   "source": [
    "**Q20.** Suppose the mean length of time between submission of a state tax return requesting a refund and the issuance of the refund is 47 days, with standard deviation 6 days. Find the probability that in a sample of 50 returns requesting a refund, the mean such time will be more than 50 days."
   ]
  },
  {
   "cell_type": "code",
   "execution_count": 62,
   "metadata": {},
   "outputs": [
    {
     "name": "stdout",
     "output_type": "stream",
     "text": [
      "Probability: 0.0002\n"
     ]
    }
   ],
   "source": [
    "pmean = 47\n",
    "pstd = 6\n",
    "n = 50\n",
    "sample_mean, sample_std = sample_stats(pmean, pstd, n)\n",
    "\n",
    "prob = 1 - stats.norm.cdf(50, loc=sample_mean, scale=sample_std)\n",
    "print(f\"Probability: {prob:0.4f}\")"
   ]
  },
  {
   "cell_type": "markdown",
   "metadata": {},
   "source": [
    "**Q21.** Scores on a common final exam in a large enrollment, multiple-section freshman course are normally distributed with mean 72.7 and standard deviation 13.1.\n",
    "\n",
    "1. Find the probability that the score $X$ on a randomly selected exam paper is between 70 and 80.\n",
    "2. Find the probability that the mean score $\\bar{X}$ of 38 randomly selected exam papers is between 70 and 80."
   ]
  },
  {
   "cell_type": "code",
   "execution_count": 64,
   "metadata": {},
   "outputs": [
    {
     "name": "stdout",
     "output_type": "stream",
     "text": [
      "Probability of 1 random score: 0.2930\n",
      "Probability of sample: 0.8978\n"
     ]
    }
   ],
   "source": [
    "pmean = 72.7\n",
    "pstd = 13.1\n",
    "\n",
    "lprob = stats.norm.cdf(70, loc=pmean, scale=pstd)\n",
    "uprob = stats.norm.cdf(80, loc=pmean, scale=pstd)\n",
    "prob = uprob - lprob\n",
    "print(f\"Probability of 1 random score: {prob:0.4f}\")\n",
    "\n",
    "n = 38\n",
    "sample_mean, sample_std = sample_stats(pmean, pstd, n)\n",
    "lprob = stats.norm.cdf(70, loc=sample_mean, scale=sample_std)\n",
    "uprob = stats.norm.cdf(80, loc=sample_mean, scale=sample_std)\n",
    "prob = uprob - lprob\n",
    "print(f\"Probability of sample: {prob:0.4f}\")"
   ]
  },
  {
   "cell_type": "markdown",
   "metadata": {},
   "source": [
    "**Q22.** Suppose the mean weight of school children’s bookbags is 17.4 pounds, with standard deviation 2.2 pounds. Find the probability that the mean weight of a sample of 30 bookbags will exceed 17 pounds."
   ]
  },
  {
   "cell_type": "code",
   "execution_count": 66,
   "metadata": {},
   "outputs": [
    {
     "name": "stdout",
     "output_type": "stream",
     "text": [
      "Probability: 0.8403\n"
     ]
    }
   ],
   "source": [
    "pmean = 17.4\n",
    "pstd = 2.2\n",
    "n = 30\n",
    "sample_mean, sample_std = sample_stats(pmean, pstd, n)\n",
    "prob = 1 - stats.norm.cdf(17, loc=sample_mean, scale=sample_std)\n",
    "print(f\"Probability: {prob:0.4f}\")"
   ]
  },
  {
   "cell_type": "markdown",
   "metadata": {},
   "source": [
    "**Q23.** Suppose that in a certain region of the country the mean duration of first marriages that end in divorce is 7.8 years, standard deviation 1.2 years. Find the probability that in a sample of 75 divorces, the mean age of the marriages is at most 8 years."
   ]
  },
  {
   "cell_type": "code",
   "execution_count": 67,
   "metadata": {},
   "outputs": [
    {
     "name": "stdout",
     "output_type": "stream",
     "text": [
      "Probability: 0.9255\n"
     ]
    }
   ],
   "source": [
    "pmean = 7.8\n",
    "pstd = 1.2\n",
    "n = 75\n",
    "sample_mean, sample_std = sample_stats(pmean, pstd, n)\n",
    "prob = stats.norm.cdf(8, loc=sample_mean, scale=sample_std)\n",
    "print(f\"Probability: {prob:0.4f}\")"
   ]
  },
  {
   "cell_type": "markdown",
   "metadata": {},
   "source": [
    "**Q24.** Borachio eats at the same fast food restaurant every day. Suppose the time X between the moment Borachio enters the restaurant and the moment he is served his food is normally distributed with mean 4.2 minutes and standard deviation 1.3 minutes.\n",
    "\n",
    "1. Find the probability that when he enters the restaurant today it will be at least 5 minutes until he is served.\n",
    "2. Find the probability that average time until he is served in eight randomly selected visits to the restaurant will be at least 5 minutes."
   ]
  },
  {
   "cell_type": "code",
   "execution_count": 68,
   "metadata": {},
   "outputs": [
    {
     "name": "stdout",
     "output_type": "stream",
     "text": [
      "Probability: 0.7308\n",
      "Probability: 0.9591\n"
     ]
    }
   ],
   "source": [
    "pmean = 4.2\n",
    "pstd = 1.3\n",
    "\n",
    "prob = stats.norm.cdf(5, loc=pmean, scale=pstd)\n",
    "print(f\"Probability: {prob:0.4f}\")\n",
    "\n",
    "n = 8\n",
    "sample_mean, sample_std = sample_stats(pmean, pstd, n)\n",
    "prob = stats.norm.cdf(5, loc=sample_mean, scale=sample_std)\n",
    "print(f\"Probability: {prob:0.4f}\")"
   ]
  },
  {
   "cell_type": "markdown",
   "metadata": {},
   "source": [
    "### Additional Exercises"
   ]
  },
  {
   "cell_type": "markdown",
   "metadata": {},
   "source": [
    "**Q25.** A high-speed packing machine can be set to deliver between 11 and 13 ounces of a liquid. For any delivery setting in this range the amount delivered is normally distributed with mean some amount μ and with standard deviation 0.08 ounce. To calibrate the machine it is set to deliver a particular amount, many containers are filled, and 25 containers are randomly selected and the amount they contain is measured. Find the probability that the sample mean will be within 0.05 ounce of the actual mean amount being delivered to all containers."
   ]
  },
  {
   "cell_type": "code",
   "execution_count": 69,
   "metadata": {},
   "outputs": [
    {
     "name": "stdout",
     "output_type": "stream",
     "text": [
      "Probability: 0.9982\n"
     ]
    }
   ],
   "source": [
    "pmean = 12\n",
    "pstd = 0.08\n",
    "n = 25\n",
    "\n",
    "sample_mean, sample_std = sample_stats(pmean, pstd, n)\n",
    "lprob = stats.norm.cdf(pmean-0.05, loc=sample_mean, scale=sample_std)\n",
    "uprob = stats.norm.cdf(pmean+0.05, loc=sample_mean, scale=sample_std)\n",
    "prob = uprob - lprob\n",
    "print(f\"Probability: {prob:0.4f}\")"
   ]
  },
  {
   "cell_type": "markdown",
   "metadata": {},
   "source": [
    "**Q26.** A tire manufacturer states that a certain type of tire has a mean lifetime of 60,000 miles. Suppose lifetimes are normally distributed with standard deviation σ=3,500 miles.\n",
    "\n",
    "1. Find the probability that if you buy one such tire, it will last only 57,000 or fewer miles. If you had this experience, is it particularly strong evidence that the tire is not as good as claimed?\n",
    "1. A consumer group buys five such tires and tests them. Find the probability that average lifetime of the five tires will be 57,000 miles or less. If the mean is so low, is that particularly strong evidence that the tire is not as good as claimed?"
   ]
  },
  {
   "cell_type": "code",
   "execution_count": 76,
   "metadata": {},
   "outputs": [
    {
     "name": "stdout",
     "output_type": "stream",
     "text": [
      "0.1957\n",
      "0.0276\n"
     ]
    }
   ],
   "source": [
    "pmean = 60000\n",
    "pstd = 3500\n",
    "\n",
    "prob = stats.norm.cdf(57000, pmean, pstd)\n",
    "print(f\"{prob:0.4f}\")\n",
    "\n",
    "n = 5\n",
    "sample_mean, sample_std = sample_stats(pmean, pstd, n)\n",
    "prob = stats.norm.cdf(57000, sample_mean, sample_std)\n",
    "print(f\"{prob:0.4f}\")\n"
   ]
  },
  {
   "cell_type": "markdown",
   "metadata": {},
   "source": [
    "## Secion 6.3 The Sample Proportion"
   ]
  },
  {
   "cell_type": "markdown",
   "metadata": {},
   "source": []
  }
 ],
 "metadata": {
  "kernelspec": {
   "display_name": "Python 3",
   "language": "python",
   "name": "python3"
  },
  "language_info": {
   "codemirror_mode": {
    "name": "ipython",
    "version": 3
   },
   "file_extension": ".py",
   "mimetype": "text/x-python",
   "name": "python",
   "nbconvert_exporter": "python",
   "pygments_lexer": "ipython3",
   "version": "3.12.3"
  }
 },
 "nbformat": 4,
 "nbformat_minor": 2
}
