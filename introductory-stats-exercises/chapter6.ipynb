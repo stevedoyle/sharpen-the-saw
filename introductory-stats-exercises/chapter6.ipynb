{
 "cells": [
  {
   "cell_type": "markdown",
   "metadata": {},
   "source": [
    "# Solutions for selected exercises from Chapter 6\n"
   ]
  },
  {
   "cell_type": "markdown",
   "metadata": {},
   "source": [
    "## Section 6.1"
   ]
  },
  {
   "cell_type": "code",
   "execution_count": null,
   "metadata": {},
   "outputs": [],
   "source": [
    "import math"
   ]
  },
  {
   "cell_type": "markdown",
   "metadata": {},
   "source": [
    "Q1. Random samples of size 225 are drawn from a population with mean 100 and standard deviation 20. Find the mean and standard deviation of the sample mean."
   ]
  },
  {
   "cell_type": "code",
   "execution_count": null,
   "metadata": {},
   "outputs": [
    {
     "name": "stdout",
     "output_type": "stream",
     "text": [
      "Sample mean: 100\n",
      "Sample Standard Deviation: 1.33\n"
     ]
    }
   ],
   "source": [
    "n = 225\n",
    "pmu = 100\n",
    "psd = 20\n",
    "\n",
    "sample_mean = pmu\n",
    "print(f\"Sample mean: {sample_mean}\")\n",
    "sample_sd = psd / math.sqrt(n)\n",
    "print(f\"Sample Standard Deviation: {sample_sd:0.2f}\")"
   ]
  },
  {
   "cell_type": "markdown",
   "metadata": {},
   "source": [
    "Q2. Random samples of size 64 are drawn from a population with mean 32 and standard deviation 5. Find the mean and standard deviation of the sample mean."
   ]
  },
  {
   "cell_type": "code",
   "execution_count": null,
   "metadata": {},
   "outputs": [
    {
     "name": "stdout",
     "output_type": "stream",
     "text": [
      "Sample mean: 32\n",
      "Sample Standard Deviation: 0.62\n"
     ]
    }
   ],
   "source": [
    "n = 64\n",
    "pmean = 32\n",
    "psd = 5\n",
    "\n",
    "sample_mean = pmean\n",
    "sample_sd = psd / math.sqrt(n)\n",
    "\n",
    "print(f\"Sample mean: {sample_mean}\")\n",
    "print(f\"Sample Standard Deviation: {sample_sd:0.2f}\")"
   ]
  },
  {
   "cell_type": "markdown",
   "metadata": {},
   "source": [
    "Q3. A population has mean 75 and standard deviation 12.\n",
    "\n",
    "- a. Random samples of size 121 are taken. Find the mean and standard deviation of the sample mean.\n",
    "- b. How would the answers to part (a) change if the size of the samples were 400 instead of 121?"
   ]
  },
  {
   "cell_type": "code",
   "execution_count": null,
   "metadata": {},
   "outputs": [
    {
     "name": "stdout",
     "output_type": "stream",
     "text": [
      "Sample mean: 75\n",
      "Sample Standard Deviation: 1.09\n",
      "Sample mean: 75\n",
      "Sample Standard Deviation: 0.60\n"
     ]
    }
   ],
   "source": [
    "pmean = 75\n",
    "psd = 12\n",
    "n = 121\n",
    "\n",
    "sample_mean = pmean\n",
    "sample_sd = psd / math.sqrt(n)\n",
    "\n",
    "print(f\"Sample mean: {sample_mean}\")\n",
    "print(f\"Sample Standard Deviation: {sample_sd:0.2f}\")\n",
    "\n",
    "# Part b\n",
    "n = 400\n",
    "sample_sd = psd / math.sqrt(n)\n",
    "\n",
    "print(f\"Sample mean: {sample_mean}\")\n",
    "print(f\"Sample Standard Deviation: {sample_sd:0.2f}\")"
   ]
  },
  {
   "cell_type": "markdown",
   "metadata": {},
   "source": [
    "The sample mean ($\\mu \\bar{x}$) would stay the same. The sample standard deviation ($\\sigma \\bar{x}$) decreases to 0.6"
   ]
  },
  {
   "cell_type": "markdown",
   "metadata": {},
   "source": [
    "Q4. A population has mean 5.75 and standard deviation 1.02.\n",
    "\n",
    "- a. Random samples of size 81 are taken. Find the mean and standard deviation of the sample mean.\n",
    "- b. How would the answers to part (a) change if the size of the samples were 25 instead of 81?"
   ]
  },
  {
   "cell_type": "code",
   "execution_count": null,
   "metadata": {},
   "outputs": [
    {
     "name": "stdout",
     "output_type": "stream",
     "text": [
      "Sample mean: 5.75\n",
      "Sample Standard Deviation: 0.11\n",
      "Sample mean: 5.75\n",
      "Sample Standard Deviation: 0.20\n"
     ]
    }
   ],
   "source": [
    "pmean = 5.75\n",
    "psd = 1.02\n",
    "\n",
    "# Part a\n",
    "n = 81\n",
    "sample_mean = pmean\n",
    "sample_sd = psd / math.sqrt(n)\n",
    "\n",
    "print(f\"Sample mean: {sample_mean}\")\n",
    "print(f\"Sample Standard Deviation: {sample_sd:0.2f}\")\n",
    "\n",
    "# Part b\n",
    "n = 25\n",
    "sample_mean = pmean\n",
    "sample_sd = psd / math.sqrt(n)\n",
    "\n",
    "print(f\"Sample mean: {sample_mean}\")\n",
    "print(f\"Sample Standard Deviation: {sample_sd:0.2f}\")"
   ]
  },
  {
   "cell_type": "markdown",
   "metadata": {},
   "source": [
    "The sample mean remains the same. The sample standard deviation increases to 0.2"
   ]
  },
  {
   "cell_type": "markdown",
   "metadata": {},
   "source": [
    "## Section 6.2"
   ]
  },
  {
   "cell_type": "markdown",
   "metadata": {},
   "source": []
  }
 ],
 "metadata": {
  "kernelspec": {
   "display_name": "Python 3",
   "language": "python",
   "name": "python3"
  },
  "language_info": {
   "codemirror_mode": {
    "name": "ipython",
    "version": 3
   },
   "file_extension": ".py",
   "mimetype": "text/x-python",
   "name": "python",
   "nbconvert_exporter": "python",
   "pygments_lexer": "ipython3",
   "version": "3.12.4"
  }
 },
 "nbformat": 4,
 "nbformat_minor": 2
}
