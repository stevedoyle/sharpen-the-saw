{
 "cells": [
  {
   "cell_type": "markdown",
   "metadata": {},
   "source": [
    "# Chapter 7 - Estimation\n",
    "\n",
    "Solutions for selected exercises."
   ]
  },
  {
   "cell_type": "code",
   "execution_count": 2,
   "metadata": {},
   "outputs": [],
   "source": [
    "import numpy as np\n",
    "import scipy.stats as stats"
   ]
  },
  {
   "cell_type": "markdown",
   "metadata": {},
   "source": [
    "## Section 7.1 Large Sample Estimation of a Population Mean\n",
    "\n",
    "- $\\mu$$ = Population mean. Assumed unknown in this chapter.\n",
    "- $\\sigma$ = Population standard deviation.\n",
    "- $s$ = Sample standard deviation.\n",
    "- $\\bar{x}$ = Point estimate of $\\mu$\n",
    "- $E$ = Margin of error\n",
    "- $[\\bar{x} - E, \\bar{x} + E]$ = interval estimation of $\\mu$ using $\\bar{x}$\n",
    "- 95% confidence interval for $/mu$ means that 95% of all the intervals constructed from sample data by means of the interval formula, contain the unknown parameter $\\mu$.\n",
    "- For 95% confidence interval, $E = 1.96 \\frac{\\sigma}{\\sqrt{n}}$ or alternatively $E = z_{\\alpha/2}\\frac{s}{ \\sqrt{n}}$"
   ]
  },
  {
   "cell_type": "markdown",
   "metadata": {},
   "source": [
    "### Basic Exercises"
   ]
  },
  {
   "cell_type": "markdown",
   "metadata": {},
   "source": [
    "**Q1.** A random sample is drawn from a population of known standard deviation 11.3. Construct a 90% confidence interval for the population mean based on the information given (not all of the information given need be used).\n",
    "1. n = 36, $\\bar{x}$ =105.2, s = 11.2\n",
    "2. n = 100, $\\bar{x}$ =105.2, s = 11.2"
   ]
  },
  {
   "cell_type": "code",
   "execution_count": 3,
   "metadata": {},
   "outputs": [],
   "source": [
    "def confidence_interval(confidence, mean, s, n):\n",
    "    # print(stats.norm.interval(confidence, loc=mean, scale=s/math.sqrt(n)))\n",
    "    a = 1 - confidence\n",
    "    a2 = a/2\n",
    "    za2 = stats.norm.ppf(1-a2)\n",
    "    E = za2 * s /np.sqrt(n)\n",
    "    interval = (mean-E, mean+E)\n",
    "    return (interval, mean, E)"
   ]
  },
  {
   "cell_type": "code",
   "execution_count": 4,
   "metadata": {},
   "outputs": [
    {
     "name": "stdout",
     "output_type": "stream",
     "text": [
      "((102.12960656302393, 108.27039343697608), 105.2, 3.0703934369760812)\n",
      "((103.35776393781435, 107.04223606218565), 105.2, 1.8422360621856488)\n"
     ]
    }
   ],
   "source": [
    "print(confidence_interval(0.90, 105.2, 11.2, 36))\n",
    "print(confidence_interval(0.90, 105.2, 11.2, 100))"
   ]
  },
  {
   "cell_type": "markdown",
   "metadata": {},
   "source": [
    "**Q3.** A random sample is drawn from a population of unknown standard deviation. Construct a 99% confidence interval for the population mean based on the information given.\n",
    "1. n = 49, $\\bar{x}$ =17.1, s = 2.1\n",
    "2. n = 169, $\\bar{x}$ =17.1, s = 2.1"
   ]
  },
  {
   "cell_type": "code",
   "execution_count": 5,
   "metadata": {},
   "outputs": [
    {
     "name": "stdout",
     "output_type": "stream",
     "text": [
      "((16.32725120893533, 17.872748791064673), 17.1, 0.7727487910646701)\n",
      "((16.683904497119027, 17.516095502880976), 17.1, 0.41609550288097624)\n"
     ]
    }
   ],
   "source": [
    "print(confidence_interval(0.99, 17.1, 2.1, 49))\n",
    "print(confidence_interval(0.99, 17.1, 2.1, 169))"
   ]
  },
  {
   "cell_type": "markdown",
   "metadata": {},
   "source": [
    "**Q5.** A random sample of size 144 is drawn from a population whose distribution, mean, and standard deviation are all unknown. The summary statistics are $\\bar{x}$ =58.2 and s = 2.6.\n",
    "\n",
    "1. Construct an 80% confidence interval for the population mean μ.\n",
    "2. Construct a 90% confidence interval for the population mean μ.\n",
    "3. Comment on why one interval is longer than the other."
   ]
  },
  {
   "cell_type": "code",
   "execution_count": 6,
   "metadata": {},
   "outputs": [
    {
     "name": "stdout",
     "output_type": "stream",
     "text": [
      "((57.922330494132005, 58.477669505868), 58.2, 0.27766950586799677)\n",
      "((57.84361504749385, 58.55638495250616), 58.2, 0.3563849525061524)\n"
     ]
    }
   ],
   "source": [
    "print(confidence_interval(0.80, 58.2, 2.6, 144))\n",
    "print(confidence_interval(0.90, 58.2, 2.6, 144))"
   ]
  },
  {
   "cell_type": "markdown",
   "metadata": {},
   "source": [
    "**Q6.** A random sample of size 256 is drawn from a population whose distribution, mean, and standard deviation are all unknown. The summary statistics are $\\bar{x}$=1011 and s = 34.\n",
    "\n",
    "1. Construct a 90% confidence interval for the population mean μ.\n",
    "2. Construct a 99% confidence interval for the population mean μ.\n",
    "3. Comment on why one interval is longer than the other"
   ]
  },
  {
   "cell_type": "code",
   "execution_count": 7,
   "metadata": {},
   "outputs": [
    {
     "name": "stdout",
     "output_type": "stream",
     "text": [
      "((1008.2767029232177, 1013.7232970767823), 1011, 2.7232970767822757)\n",
      "((1005.5263627299586, 1016.4736372700414), 1011, 5.473637270041413)\n"
     ]
    }
   ],
   "source": [
    "mu, s, n =  1011, 34, 256\n",
    "print(confidence_interval(0.80, mu, s, n))\n",
    "print(confidence_interval(0.99, mu, s, n))"
   ]
  },
  {
   "cell_type": "markdown",
   "metadata": {},
   "source": [
    "### Applications"
   ]
  },
  {
   "cell_type": "markdown",
   "metadata": {},
   "source": [
    "**Q7.** A government agency was charged by the legislature with estimating the length of time it takes citizens to fill out various forms. Two hundred randomly selected adults were timed as they filled out a particular form. The times required had mean 12.8 minutes with standard deviation 1.7 minutes. Construct a 90% confidence interval for the mean time taken for all adults to fill out this form."
   ]
  },
  {
   "cell_type": "code",
   "execution_count": 8,
   "metadata": {},
   "outputs": [
    {
     "name": "stdout",
     "output_type": "stream",
     "text": [
      "((12.602275183874966, 12.997724816125036), 12.8, 0.1977248161250345)\n"
     ]
    }
   ],
   "source": [
    "mu, s, n = 12.8, 1.7, 200\n",
    "print(confidence_interval(0.9, mu, s, n))"
   ]
  },
  {
   "cell_type": "markdown",
   "metadata": {},
   "source": [
    "**Q9.** On every passenger vehicle that it tests an automotive magazine measures, at true speed 55 mph, the difference between the true speed of the vehicle and the speed indicated by the speedometer. For 36 vehicles tested the mean difference was −1.2 mph with standard deviation 0.2 mph. Construct a 90% confidence interval for the mean difference between true speed and indicated speed for all vehicles."
   ]
  },
  {
   "cell_type": "code",
   "execution_count": 9,
   "metadata": {},
   "outputs": [
    {
     "name": "stdout",
     "output_type": "stream",
     "text": [
      "((-1.2548284542317156, -1.1451715457682843), -1.2, 0.05482845423171575)\n"
     ]
    }
   ],
   "source": [
    "mu, s, n = -1.2, 0.2, 36\n",
    "\n",
    "print(confidence_interval(0.9, mu, s, n))"
   ]
  },
  {
   "cell_type": "markdown",
   "metadata": {},
   "source": [
    "**Q11.** A sample of 250 workers aged 16 and older produced an average length of time with the current employer (“job tenure”) of 4.4 years with standard deviation 3.8 years. Construct a 99.9% confidence interval for the mean job tenure of all workers aged 16 or older."
   ]
  },
  {
   "cell_type": "code",
   "execution_count": 10,
   "metadata": {},
   "outputs": [
    {
     "name": "stdout",
     "output_type": "stream",
     "text": [
      "((3.6091775028380324, 5.190822497161968), 4.4, 0.7908224971619681)\n"
     ]
    }
   ],
   "source": [
    "mu, s, n = 4.4, 3.8, 250\n",
    "print(confidence_interval(0.999, mu, s, n))"
   ]
  },
  {
   "cell_type": "markdown",
   "metadata": {},
   "source": [
    "**Q13.** A corporation that owns apartment complexes wishes to estimate the average length of time residents remain in the same apartment before moving out. A sample of 150 rental contracts gave a mean length of occupancy of 3.7 years with standard deviation 1.2 years. Construct a 95% confidence interval for the mean length of occupancy of apartments owned by this corporation."
   ]
  },
  {
   "cell_type": "code",
   "execution_count": 11,
   "metadata": {},
   "outputs": [
    {
     "name": "stdout",
     "output_type": "stream",
     "text": [
      "((3.5079635329457877, 3.8920364670542127), 3.7, 0.1920364670542124)\n"
     ]
    }
   ],
   "source": [
    "mu, s, n = 3.7, 1.2, 150\n",
    "print(confidence_interval(0.95, mu, s, n))"
   ]
  },
  {
   "cell_type": "markdown",
   "metadata": {},
   "source": [
    "**Q15.** In order to estimate the mean amount of damage sustained by vehicles when a deer is struck, an insurance company examined the records of 50 such occurrences, and obtained a sample mean of $2,785 with sample standard deviation $221. Construct a 95% confidence interval for the mean amount of damage in all such accidents."
   ]
  },
  {
   "cell_type": "code",
   "execution_count": 12,
   "metadata": {},
   "outputs": [
    {
     "name": "stdout",
     "output_type": "stream",
     "text": [
      "((2723.7430509637443, 2846.2569490362557), 2785, 61.256949036255754)\n"
     ]
    }
   ],
   "source": [
    "mu, s, n = 2785, 221, 50\n",
    "print(confidence_interval(0.95, mu, s, n))"
   ]
  },
  {
   "cell_type": "markdown",
   "metadata": {},
   "source": [
    "### Additional Exercises"
   ]
  },
  {
   "cell_type": "markdown",
   "metadata": {},
   "source": [
    "**Q17.** For all settings a packing machine delivers a precise amount of liquid; the amount dispensed always has standard deviation 0.07 ounce. To calibrate the machine its setting is fixed and it is operated 50 times. The mean amount delivered is 6.02 ounces with sample standard deviation 0.04 ounce. Construct a 99.5% confidence interval for the mean amount delivered at this setting. Hint: Not all the information provided is needed."
   ]
  },
  {
   "cell_type": "code",
   "execution_count": 13,
   "metadata": {},
   "outputs": [
    {
     "name": "stdout",
     "output_type": "stream",
     "text": [
      "((5.992211783423382, 6.047788216576617), 6.02, 0.027788216576617522)\n"
     ]
    }
   ],
   "source": [
    "mu, s, n = 6.02, 0.07, 50\n",
    "print(confidence_interval(0.995, mu, s, n))"
   ]
  },
  {
   "cell_type": "markdown",
   "metadata": {},
   "source": [
    "**Q19.** The number of trips to a grocery store per week was recorded for a randomly selected collection of households, with the results shown in the table.\n",
    "\n",
    "2 2 2 1 4 2 3 2 5 4\n",
    "2 3 5 0 3 2 3 1 4 3\n",
    "3 2 1 6 2 3 3 2 4 4\n",
    "\n",
    "Construct a 95% confidence interval for the average number of trips to a grocery store per week of all households."
   ]
  },
  {
   "cell_type": "code",
   "execution_count": 15,
   "metadata": {},
   "outputs": [
    {
     "name": "stdout",
     "output_type": "stream",
     "text": [
      "((2.2984277262902797, 3.2349056070430535), 2.7666666666666666, 0.468238940376387)\n"
     ]
    }
   ],
   "source": [
    "x = np.array([2,2,3,2,3,2,2,5,1,1,0,6,4,3,2,2,2,3,3,3,3,2,1,2,5,4,4,4,3,4])\n",
    "mu = np.mean(x)\n",
    "s = np.std(x)\n",
    "n = len(x)\n",
    "\n",
    "print(confidence_interval(0.95, mu, s, n))"
   ]
  },
  {
   "cell_type": "markdown",
   "metadata": {},
   "source": [
    "**Q21.** A town council commissioned a random sample of 85 households to estimate the number of four-wheel vehicles per household in the town. The results are shown in the following frequency table.\n",
    "\n",
    "|x|0|1|2|3|4|5|\n",
    "|-|-|-|-|-|-|-|\n",
    "|f|1|16|28|22|12|6|\n",
    "\n",
    "Construct a 98% confidence interval for the average number of four-wheel vehicles per household in the town."
   ]
  },
  {
   "cell_type": "code",
   "execution_count": 26,
   "metadata": {},
   "outputs": [
    {
     "name": "stdout",
     "output_type": "stream",
     "text": [
      "((2.2424853323816567, 2.8398676087948136), 2.541176470588235, 0.29869113820657833)\n"
     ]
    }
   ],
   "source": [
    "x = np.array(sum([[0] * 1, [1] * 16, [2] * 28, [3] * 22, [4] * 12, [5] * 6], []))\n",
    "\n",
    "mu = np.mean(x)\n",
    "s = np.std(x)\n",
    "n = len(x)\n",
    "\n",
    "print(confidence_interval(0.98, mu, s, n))\n"
   ]
  },
  {
   "cell_type": "markdown",
   "metadata": {},
   "source": [
    "## Section 7.2 Small Sample Estimation of a Population Mean"
   ]
  },
  {
   "cell_type": "markdown",
   "metadata": {},
   "source": []
  }
 ],
 "metadata": {
  "kernelspec": {
   "display_name": "mytime",
   "language": "python",
   "name": "python3"
  },
  "language_info": {
   "codemirror_mode": {
    "name": "ipython",
    "version": 3
   },
   "file_extension": ".py",
   "mimetype": "text/x-python",
   "name": "python",
   "nbconvert_exporter": "python",
   "pygments_lexer": "ipython3",
   "version": "3.12.3"
  }
 },
 "nbformat": 4,
 "nbformat_minor": 2
}
