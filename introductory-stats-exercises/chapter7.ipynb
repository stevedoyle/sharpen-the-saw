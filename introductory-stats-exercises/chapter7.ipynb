{
 "cells": [
  {
   "cell_type": "markdown",
   "metadata": {},
   "source": [
    "# Chapter 7 - Estimation\n",
    "\n",
    "Solutions for selected exercises."
   ]
  },
  {
   "cell_type": "code",
   "execution_count": 47,
   "metadata": {},
   "outputs": [],
   "source": [
    "import math\n",
    "import scipy.stats as stats"
   ]
  },
  {
   "cell_type": "markdown",
   "metadata": {},
   "source": [
    "## Section 7.1 Large Sample Estimation of a Population Mean\n",
    "\n",
    "- $\\mu$$ = Population mean. Assumed unknown in this chapter.\n",
    "- $\\sigma$ = Population standard deviation.\n",
    "- $s$ = Sample standard deviation.\n",
    "- $\\bar{x}$ = Point estimate of $\\mu$\n",
    "- $E$ = Margin of error\n",
    "- $[\\bar{x} - E, \\bar{x} + E]$ = interval estimation of $\\mu$ using $\\bar{x}$\n",
    "- 95% confidence interval for $/mu$ means that 95% of all the intervals constructed from sample data by means of the interval formula, contain the unknown parameter $\\mu$.\n",
    "- For 95% confidence interval, $E = 1.96 \\frac{\\sigma}{\\sqrt{n}}$ or alternatively $E = z_{\\alpha/2}\\frac{s}{ \\sqrt{n}}$"
   ]
  },
  {
   "cell_type": "markdown",
   "metadata": {},
   "source": [
    "### Basic Exercises"
   ]
  },
  {
   "cell_type": "markdown",
   "metadata": {},
   "source": [
    "**Q1.** A random sample is drawn from a population of known standard deviation 11.3. Construct a 90% confidence interval for the population mean based on the information given (not all of the information given need be used).\n",
    "1. n = 36, $\\bar{x}$ =105.2, s = 11.2\n",
    "2. n = 100, $\\bar{x}$ =105.2, s = 11.2"
   ]
  },
  {
   "cell_type": "code",
   "execution_count": 48,
   "metadata": {},
   "outputs": [],
   "source": [
    "def confidence_interval(confidence, mean, s, n):\n",
    "    # print(stats.norm.interval(confidence, loc=mean, scale=s/math.sqrt(n)))\n",
    "    a = 1 - confidence\n",
    "    a2 = a/2\n",
    "    za2 = stats.norm.ppf(1-a2)\n",
    "    E = za2 * s /math.sqrt(n)\n",
    "    interval = (mean-E, mean+E)\n",
    "    return (interval, mean, E)"
   ]
  },
  {
   "cell_type": "code",
   "execution_count": 49,
   "metadata": {},
   "outputs": [
    {
     "name": "stdout",
     "output_type": "stream",
     "text": [
      "((102.12960656302393, 108.27039343697608), 105.2, 3.0703934369760812)\n",
      "((103.35776393781435, 107.04223606218565), 105.2, 1.8422360621856488)\n"
     ]
    }
   ],
   "source": [
    "print(confidence_interval(0.90, 105.2, 11.2, 36))\n",
    "print(confidence_interval(0.90, 105.2, 11.2, 100))"
   ]
  },
  {
   "cell_type": "markdown",
   "metadata": {},
   "source": [
    "**Q3.** A random sample is drawn from a population of unknown standard deviation. Construct a 99% confidence interval for the population mean based on the information given.\n",
    "1. n = 49, $\\bar{x}$ =17.1, s = 2.1\n",
    "2. n = 169, $\\bar{x}$ =17.1, s = 2.1"
   ]
  },
  {
   "cell_type": "code",
   "execution_count": 50,
   "metadata": {},
   "outputs": [
    {
     "name": "stdout",
     "output_type": "stream",
     "text": [
      "((16.32725120893533, 17.872748791064673), 17.1, 0.7727487910646701)\n",
      "((16.683904497119027, 17.516095502880976), 17.1, 0.41609550288097624)\n"
     ]
    }
   ],
   "source": [
    "print(confidence_interval(0.99, 17.1, 2.1, 49))\n",
    "print(confidence_interval(0.99, 17.1, 2.1, 169))"
   ]
  },
  {
   "cell_type": "markdown",
   "metadata": {},
   "source": [
    "**Q5.** A random sample of size 144 is drawn from a population whose distribution, mean, and standard deviation are all unknown. The summary statistics are $\\bar{x}$ =58.2 and s = 2.6.\n",
    "\n",
    "1. Construct an 80% confidence interval for the population mean μ.\n",
    "2. Construct a 90% confidence interval for the population mean μ.\n",
    "3. Comment on why one interval is longer than the other."
   ]
  },
  {
   "cell_type": "code",
   "execution_count": 52,
   "metadata": {},
   "outputs": [
    {
     "name": "stdout",
     "output_type": "stream",
     "text": [
      "((57.922330494132005, 58.477669505868), 58.2, 0.27766950586799677)\n",
      "((57.84361504749385, 58.55638495250616), 58.2, 0.3563849525061524)\n"
     ]
    }
   ],
   "source": [
    "print(confidence_interval(0.80, 58.2, 2.6, 144))\n",
    "print(confidence_interval(0.90, 58.2, 2.6, 144))"
   ]
  },
  {
   "cell_type": "markdown",
   "metadata": {},
   "source": [
    "**Q6.** A random sample of size 256 is drawn from a population whose distribution, mean, and standard deviation are all unknown. The summary statistics are $\\bar{x}$=1011 and s = 34.\n",
    "\n",
    "1. Construct a 90% confidence interval for the population mean μ.\n",
    "2. Construct a 99% confidence interval for the population mean μ.\n",
    "3. Comment on why one interval is longer than the other"
   ]
  },
  {
   "cell_type": "code",
   "execution_count": 53,
   "metadata": {},
   "outputs": [
    {
     "name": "stdout",
     "output_type": "stream",
     "text": [
      "((1008.2767029232177, 1013.7232970767823), 1011, 2.7232970767822757)\n",
      "((1005.5263627299586, 1016.4736372700414), 1011, 5.473637270041413)\n"
     ]
    }
   ],
   "source": [
    "mu, s, n =  1011, 34, 256\n",
    "print(confidence_interval(0.80, mu, s, n))\n",
    "print(confidence_interval(0.99, mu, s, n))"
   ]
  },
  {
   "cell_type": "markdown",
   "metadata": {},
   "source": [
    "### Applications"
   ]
  },
  {
   "cell_type": "markdown",
   "metadata": {},
   "source": [
    "**Q7.** A government agency was charged by the legislature with estimating the length of time it takes citizens to fill out various forms. Two hundred randomly selected adults were timed as they filled out a particular form. The times required had mean 12.8 minutes with standard deviation 1.7 minutes. Construct a 90% confidence interval for the mean time taken for all adults to fill out this form."
   ]
  },
  {
   "cell_type": "code",
   "execution_count": 54,
   "metadata": {},
   "outputs": [
    {
     "name": "stdout",
     "output_type": "stream",
     "text": [
      "((12.602275183874966, 12.997724816125036), 12.8, 0.1977248161250345)\n"
     ]
    }
   ],
   "source": [
    "mu, s, n = 12.8, 1.7, 200\n",
    "print(confidence_interval(0.9, mu, s, n))"
   ]
  },
  {
   "cell_type": "markdown",
   "metadata": {},
   "source": []
  }
 ],
 "metadata": {
  "kernelspec": {
   "display_name": "mytime",
   "language": "python",
   "name": "python3"
  },
  "language_info": {
   "codemirror_mode": {
    "name": "ipython",
    "version": 3
   },
   "file_extension": ".py",
   "mimetype": "text/x-python",
   "name": "python",
   "nbconvert_exporter": "python",
   "pygments_lexer": "ipython3",
   "version": "3.12.3"
  }
 },
 "nbformat": 4,
 "nbformat_minor": 2
}
